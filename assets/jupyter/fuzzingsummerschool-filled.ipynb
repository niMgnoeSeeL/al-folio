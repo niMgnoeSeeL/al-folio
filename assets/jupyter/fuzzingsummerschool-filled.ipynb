{
 "cells": [
  {
   "attachments": {},
   "cell_type": "markdown",
   "metadata": {},
   "source": [
    "## Use Fuzzing Book Resources\n",
    "\n",
    "Clone the [Fuzzing Book](https://www.fuzzingbook.org/) repository and put this notebook under the directory `fuzzingbook/notebooks/`. Then you can use the fuzzing book resources in this notebook."
   ]
  },
  {
   "cell_type": "code",
   "execution_count": 1,
   "metadata": {},
   "outputs": [
    {
     "data": {
      "text/plain": [
       "'f9e386d0a19f8b21a36a63a167c434dc'"
      ]
     },
     "execution_count": 1,
     "metadata": {},
     "output_type": "execute_result"
    }
   ],
   "source": [
    "import bookutils\n",
    "from typing import List, Tuple, Dict, Any\n",
    "from Fuzzer import RandomFuzzer\n",
    "from html.parser import HTMLParser\n",
    "from Coverage import Coverage\n",
    "import pickle\n",
    "import hashlib\n",
    "\n",
    "# Create simple fuzzer\n",
    "fuzzer = RandomFuzzer(\n",
    "    min_length=1, max_length=100, char_start=32, char_range=94\n",
    ")\n",
    "\n",
    "\n",
    "# Create simple program-under-test\n",
    "def my_parser(inp: str) -> None:\n",
    "    parser = HTMLParser()\n",
    "    parser.feed(inp)\n",
    "\n",
    "\n",
    "def getTraceHash(cov: Coverage) -> str:\n",
    "    pickledCov = pickle.dumps(cov.coverage())\n",
    "    hashedCov = hashlib.md5(pickledCov).hexdigest()\n",
    "    return hashedCov\n",
    "\n",
    "\n",
    "# Every program path is a color\n",
    "inp = \"<html>\"\n",
    "\n",
    "with Coverage() as cov:\n",
    "    my_parser(inp)\n",
    "getTraceHash(cov)"
   ]
  },
  {
   "attachments": {},
   "cell_type": "markdown",
   "metadata": {},
   "source": [
    "# **The rarity differs for different coverage**"
   ]
  },
  {
   "attachments": {},
   "cell_type": "markdown",
   "metadata": {},
   "source": [
    "### Use the fuzzer to create a population"
   ]
  },
  {
   "cell_type": "code",
   "execution_count": 2,
   "metadata": {},
   "outputs": [
    {
     "data": {
      "text/plain": [
       "['\"N&+slk%hyp5o\\'@[3(rW*M5W]tMFPU4\\\\P@tz%[X?uo\\\\1?b4T;1bDeYtHx #UJ5w}pMmPodJM,_%%',\n",
       " 'CdYN6*g|Y*Ou9I<P94}7,99ivb(9`=%jJj*',\n",
       " \"*dOLXk!;Jw!iOU8]hqg00?u(c);>:\\\\=V<ZV1=*g#UJA'No5QZ)--[})Sdv\"]"
      ]
     },
     "execution_count": 2,
     "metadata": {},
     "output_type": "execute_result"
    }
   ],
   "source": [
    "trials = 50000\n",
    "\n",
    "population = []\n",
    "for i in range(trials):\n",
    "    population.append(fuzzer.fuzz())\n",
    "\n",
    "population[:3]"
   ]
  },
  {
   "cell_type": "markdown",
   "metadata": {},
   "source": [
    "### Record the frequency of each coverage"
   ]
  },
  {
   "cell_type": "code",
   "execution_count": 3,
   "metadata": {},
   "outputs": [],
   "source": [
    "# TODO: Implement the code to calculate the coverage of the population\n",
    "\n",
    "############# IMPLEMENT HERE #############\n",
    "all_coverage_dict = {}\n",
    "for inp in population:\n",
    "    with Coverage() as cov:\n",
    "        try:\n",
    "            my_parser(inp)\n",
    "        except BaseException:\n",
    "            pass\n",
    "    cov_hash = getTraceHash(cov)\n",
    "    if cov_hash not in all_coverage_dict:\n",
    "        all_coverage_dict[cov_hash] = 0\n",
    "    all_coverage_dict[cov_hash] += 1\n",
    "##########################################\n"
   ]
  },
  {
   "cell_type": "markdown",
   "metadata": {},
   "source": [
    "### Distribution of the coverage"
   ]
  },
  {
   "cell_type": "code",
   "execution_count": 4,
   "metadata": {},
   "outputs": [
    {
     "name": "stdout",
     "output_type": "stream",
     "text": [
      "Number of unique traces: 511\n",
      "Top 3 frequencies: [20363, 5504, 5342]\n",
      "Bottom 3 frequencies: [1, 1, 1]\n"
     ]
    },
    {
     "data": {
      "image/png": "[encoded data removed]",
      "text/plain": [
       "<Figure size 640x480 with 1 Axes>"
      ]
     },
     "metadata": {},
     "output_type": "display_data"
    }
   ],
   "source": [
    "import matplotlib.pyplot as plt\n",
    "import seaborn as sns\n",
    "\n",
    "num_unique = len(all_coverage_dict)\n",
    "print(f\"Number of unique traces: {num_unique}\")\n",
    "print(\n",
    "    f\"Top 3 frequencies: {sorted(list(all_coverage_dict.values()), reverse=True)[:3]}\"\n",
    ")\n",
    "print(f\"Bottom 3 frequencies: {sorted(list(all_coverage_dict.values()))[:3]}\")\n",
    "freqs = sorted(list(all_coverage_dict.values()), reverse=True)\n",
    "# print bar chart of the frequencies\n",
    "fig, ax = plt.subplots()\n",
    "sns.barplot(x=list(range(len(freqs))), y=freqs, ax=ax)\n",
    "# remove the x labels\n",
    "ax.set_xticks([])\n",
    "# set log-scale for y-axis\n",
    "ax.set_yscale(\"log\")\n",
    "plt.show()"
   ]
  },
  {
   "attachments": {},
   "cell_type": "markdown",
   "metadata": {},
   "source": [
    "## Some Definitions\n",
    "\n",
    "- Singletons: colors that appear only once in the sample\n",
    "- Doubletons: colors that appear twice in the sample\n",
    "\n",
    "$$\n",
    "\\Phi_k = \\text{the number of colors that appear $k$ times in the sample}\n",
    "$$\n",
    "\n",
    "- $\\Phi_1$ = the number of singletons, $\\Phi_2$ = the number of doubletons, etc."
   ]
  },
  {
   "cell_type": "code",
   "execution_count": 5,
   "metadata": {},
   "outputs": [
    {
     "name": "stdout",
     "output_type": "stream",
     "text": [
      "The number of coverage elements seen exactly once is 216\n",
      "The number of coverage elements seen exactly twice is 77\n"
     ]
    }
   ],
   "source": [
    "# TODO: Compute the singletons and doubletons\n",
    "\n",
    "############# IMPLEMENT HERE #############\n",
    "singletons = {k: v for k, v in all_coverage_dict.items() if v == 1}\n",
    "doubletons = {k: v for k, v in all_coverage_dict.items() if v == 2}\n",
    "##########################################\n",
    "\n",
    "print(\n",
    "    \"The number of coverage elements seen exactly once is \"\n",
    "    + str(len(singletons))\n",
    ")\n",
    "print(\n",
    "    \"The number of coverage elements seen exactly twice is \"\n",
    "    + str(len(doubletons))\n",
    ")"
   ]
  },
  {
   "cell_type": "markdown",
   "metadata": {},
   "source": [
    "***💡 Go back to the slides***"
   ]
  },
  {
   "cell_type": "markdown",
   "metadata": {},
   "source": [
    "# **Missing Mass**: What is the probability that the next generated input increases coverage?"
   ]
  },
  {
   "attachments": {},
   "cell_type": "markdown",
   "metadata": {},
   "source": [
    "### Estimating the propobability of generating a coverage-increasing input\n",
    "\n",
    "- **Good-Turing** estimator:\n",
    "$$\n",
    "\\hat{M_0} = \\frac{\\Phi_1}{n}\n",
    "$$"
   ]
  },
  {
   "cell_type": "code",
   "execution_count": 6,
   "metadata": {},
   "outputs": [
    {
     "name": "stdout",
     "output_type": "stream",
     "text": [
      "The probability that the next input increases coverage is estimated as 0.00432\n"
     ]
    }
   ],
   "source": [
    "# TODO: Implement the Good-Turing estimator\n",
    "\n",
    "############# IMPLEMENT HERE #############\n",
    "estimate = len(singletons) / trials\n",
    "##########################################\n",
    "\n",
    "print(\n",
    "    \"The probability that the next input increases coverage is estimated as \"\n",
    "    + str(estimate)\n",
    ")"
   ]
  },
  {
   "attachments": {},
   "cell_type": "markdown",
   "metadata": {},
   "source": [
    "### How do we evaluate this?"
   ]
  },
  {
   "cell_type": "code",
   "execution_count": 7,
   "metadata": {},
   "outputs": [
    {
     "name": "stdout",
     "output_type": "stream",
     "text": [
      "The probability that the next input increases coverage is empirically 0.00414\n"
     ]
    }
   ],
   "source": [
    "# TODO: Evaluate the estimator empirically\n",
    "\n",
    "############# IMPLEMENT HERE #############\n",
    "curr_coverage = all_coverage_dict.keys()\n",
    "\n",
    "count = 0\n",
    "validation = []\n",
    "for i in range(trials): # sample the same number of inputs as in the population\n",
    "    validation.append(fuzzer.fuzz())\n",
    "\n",
    "for inp in validation:\n",
    "    with Coverage() as cov:\n",
    "        try:\n",
    "            my_parser(inp)\n",
    "        except BaseException:\n",
    "            pass\n",
    "    this_coverage = set([getTraceHash(cov)])\n",
    "    if len(curr_coverage & this_coverage) == 0:\n",
    "        count = count + 1\n",
    "\n",
    "empirical = count / trials\n",
    "##########################################\n",
    "\n",
    "print(\n",
    "    \"The probability that the next input increases coverage is empirically \"\n",
    "    + str(empirical)\n",
    ")"
   ]
  },
  {
   "cell_type": "markdown",
   "metadata": {},
   "source": [
    "## Why does Good-Turing work so well?\n",
    "\n",
    "Intuitive explanation: \"if you observe a new thing at this round, it becomes one of the singletons at the next round.\"\n",
    "\n",
    "***💡 Go back to the slides for a little bit deeper explanation :)***"
   ]
  },
  {
   "cell_type": "markdown",
   "metadata": {},
   "source": [
    "# **Species Richness**: What is the maximum coverage we can achieve?"
   ]
  },
  {
   "cell_type": "markdown",
   "metadata": {},
   "source": [
    "The estimate of the lower bound of the remaining coverage is\n",
    "$$\n",
    "\\frac{n - 1}{n}\\frac{(\\Phi_1)^2}{2\\Phi_2}\n",
    "$$"
   ]
  },
  {
   "cell_type": "code",
   "execution_count": 8,
   "metadata": {},
   "outputs": [
    {
     "name": "stdout",
     "output_type": "stream",
     "text": [
      "The lower bound of the number of coverages that are still unexplored is 302\n"
     ]
    }
   ],
   "source": [
    "# TODO: Estimate the Species Richness\n",
    "\n",
    "############# IMPLEMENT HERE #############\n",
    "estimate = int(\n",
    "    (trials - 1) / trials * (len(singletons) ** 2) / (2 * len(doubletons))\n",
    ")\n",
    "##########################################\n",
    "\n",
    "print(\n",
    "    f\"The lower bound of the number of coverages that are still unexplored is {estimate}\"\n",
    ")"
   ]
  },
  {
   "cell_type": "markdown",
   "metadata": {},
   "source": [
    "### How do we evaluate this?\n",
    "\n",
    "Let's try to run the fuzzer much longer and see if we can reach the estimate."
   ]
  },
  {
   "cell_type": "code",
   "execution_count": 9,
   "metadata": {},
   "outputs": [
    {
     "name": "stdout",
     "output_type": "stream",
     "text": [
      "Processed 100000 inputs / 100000\n",
      "Number of new coverages: 275\n"
     ]
    }
   ],
   "source": [
    "# TODO: Evaluate the estimator by empirically observing \n",
    "#       the number of new coverages for a large number of inputs\n",
    "\n",
    "############# IMPLEMENT HERE #############\n",
    "extra_trials = trials * 2\n",
    "validation = []\n",
    "for i in range(extra_trials):\n",
    "    validation.append(fuzzer.fuzz())\n",
    "\n",
    "extra_coverage = set()\n",
    "for idx, inp in enumerate(validation, 1):\n",
    "    if idx % trials == 0:\n",
    "        print(f\"Processed {idx} inputs / {extra_trials}\", end=\"\\r\", flush=True)\n",
    "    with Coverage() as cov:\n",
    "        try:\n",
    "            my_parser(inp)\n",
    "        except BaseException:\n",
    "            pass\n",
    "    cov_hash = set([getTraceHash(cov)])\n",
    "    extra_coverage |= cov_hash\n",
    "print()\n",
    "extra_coverage -= curr_coverage\n",
    "##########################################\n",
    "\n",
    "print(f\"Number of new coverages: {len(extra_coverage)}\")"
   ]
  },
  {
   "cell_type": "markdown",
   "metadata": {},
   "source": [
    "***💡 Go back to the slides***"
   ]
  },
  {
   "cell_type": "markdown",
   "metadata": {},
   "source": [
    "# **Extrapolation**: How much can I discover more when I spend $X$ more time here?\n",
    "\n",
    "- $\\Delta(m)$: the number of new discoveries when $m$ more samples are retrieved.\n",
    "\n",
    "$$\n",
    "\\hat \\Delta(m) = \\hat \\Phi_0 \\left[1 - \\left(1 - \\frac{\\Phi_1}{n\\hat \\Phi_0 + \\Phi_1} \\right)^m\\right]\n",
    "$$"
   ]
  },
  {
   "cell_type": "markdown",
   "metadata": {},
   "source": [
    "### Show the coverage increase with the number of samples.\n",
    "\n",
    "- Compute the cumulative coverage of the population with size 200,000 + (additional) 200,000\n",
    "- Extrapolate the number of unique coverage from the point where we have 200,000 samples."
   ]
  },
  {
   "cell_type": "code",
   "execution_count": 10,
   "metadata": {},
   "outputs": [],
   "source": [
    "############################################################\n",
    "# First 200,000 inputs\n",
    "############################################################\n",
    "trials = 200000\n",
    "population = []\n",
    "for i in range(trials):\n",
    "    population.append(fuzzer.fuzz())\n",
    "\n",
    "cumulative_coverage = []\n",
    "all_coverage = set()\n",
    "singletons = set()  # Store the number of singletons \n",
    "doubletons = set()  # and doubletons for the extrapolation\n",
    "\n",
    "for inp in population:\n",
    "    with Coverage() as cov:\n",
    "        try:\n",
    "            my_parser(inp)\n",
    "        except BaseException:\n",
    "            pass\n",
    "    this_coverage = set([getTraceHash(cov)])\n",
    "    doubletons -= this_coverage\n",
    "    doubletons |= singletons & this_coverage\n",
    "    singletons -= this_coverage\n",
    "    singletons |= this_coverage - all_coverage\n",
    "    all_coverage |= this_coverage\n",
    "    cumulative_coverage.append(len(all_coverage))\n",
    "\n",
    "num_singletons = len(singletons)\n",
    "num_doubletons = len(doubletons)\n",
    "\n",
    "############################################################\n",
    "# Additional 200,000 inputs\n",
    "############################################################\n",
    "extra_trials = 200000\n",
    "validation = []\n",
    "for i in range(extra_trials):\n",
    "    validation.append(fuzzer.fuzz())\n",
    "\n",
    "for inp in validation:\n",
    "    with Coverage() as cov:\n",
    "        try:\n",
    "            my_parser(inp)\n",
    "        except BaseException:\n",
    "            pass\n",
    "    this_coverage = set([getTraceHash(cov)])\n",
    "    all_coverage |= this_coverage\n",
    "    cumulative_coverage.append(len(all_coverage))\n"
   ]
  },
  {
   "cell_type": "code",
   "execution_count": 11,
   "metadata": {},
   "outputs": [
    {
     "data": {
      "image/png": "[encoded data removed]",
      "text/plain": [
       "<Figure size 640x480 with 1 Axes>"
      ]
     },
     "metadata": {},
     "output_type": "display_data"
    }
   ],
   "source": [
    "fig, ax = plt.subplots()\n",
    "coverage_ateach_1000trial = [0] + cumulative_coverage[\n",
    "    999::1000\n",
    "]  # for every 1000 trials\n",
    "sub_coverage_until_half = coverage_ateach_1000trial[:201]\n",
    "sns.lineplot(\n",
    "    x=range(0, 200001, 1000),\n",
    "    y=sub_coverage_until_half,\n",
    "    ax=ax,\n",
    ")\n",
    "ax.set_xlim(0, 400000)\n",
    "ax.set_ylim(0, cumulative_coverage[-1])\n",
    "ax.set_xticks([0, 100000, 200000, 300000, 400000])\n",
    "ax.set_xlabel(\"Number of inputs\")\n",
    "ax.set_ylabel(\"Number of unique coverages\")\n",
    "plt.show()"
   ]
  },
  {
   "cell_type": "code",
   "execution_count": 12,
   "metadata": {},
   "outputs": [
    {
     "data": {
      "image/png": "[encoded data removed]",
      "text/plain": [
       "<Figure size 640x480 with 1 Axes>"
      ]
     },
     "metadata": {},
     "output_type": "display_data"
    }
   ],
   "source": [
    "fig, ax = plt.subplots()\n",
    "sns.lineplot(\n",
    "    x=range(0, 400001, 1000),\n",
    "    y=coverage_ateach_1000trial,\n",
    "    ax=ax,\n",
    ")\n",
    "ax.set_xlabel(\"Number of inputs\")\n",
    "ax.set_ylabel(\"Number of unique coverages\")\n",
    "plt.show()"
   ]
  },
  {
   "cell_type": "code",
   "execution_count": 13,
   "metadata": {},
   "outputs": [
    {
     "data": {
      "image/png": "[encoded data removed]",
      "text/plain": [
       "<Figure size 640x480 with 1 Axes>"
      ]
     },
     "metadata": {},
     "output_type": "display_data"
    }
   ],
   "source": [
    "## formula:\n",
    "## - \\Phi_0 = (n - 1) / n * (\\Phi_1^2 / (2 \\Phi_2))\n",
    "## - \\Delta(m) = \\Phi_0 [1 - (1 - \\Phi_1/(n \\Phi_0 + \\Phi_1) )^m ]\n",
    "\n",
    "############# IMPLEMENT HERE #############\n",
    "phi1 = num_singletons\n",
    "phi2 = num_doubletons\n",
    "phi0 = (trials - 1) / trials * (phi1**2 / (2 * phi2))\n",
    "extrapolator = lambda m: phi0 * (1 - (1 - phi1 / (trials * phi0 + phi1)) ** m)\n",
    "\n",
    "extrapolated = [extrapolator(i) for i in range(1, 200001)]\n",
    "extrapolated = [delta + sub_coverage_until_half[-1] for delta in extrapolated]\n",
    "##########################################\n",
    "\n",
    "fig, ax = plt.subplots()\n",
    "sns.lineplot(\n",
    "    x=range(0, 200001, 1000),\n",
    "    y=sub_coverage_until_half,\n",
    "    ax=ax,\n",
    "    color=\"black\",\n",
    ")\n",
    "sns.lineplot(\n",
    "    x=range(201000, 400001, 1000),\n",
    "    y=extrapolated[999::1000],\n",
    "    ax=ax,\n",
    "    color=\"blue\",\n",
    "    dashes=True,\n",
    ")\n",
    "\n",
    "plt.show()"
   ]
  },
  {
   "cell_type": "code",
   "execution_count": 15,
   "metadata": {},
   "outputs": [
    {
     "data": {
      "image/png": "[encoded data removed]",
      "text/plain": [
       "<Figure size 1500x400 with 3 Axes>"
      ]
     },
     "metadata": {},
     "output_type": "display_data"
    }
   ],
   "source": [
    "fig, axes = plt.subplots(1, 3, figsize=(15, 4))\n",
    "\n",
    "# 1.\n",
    "sns.lineplot(\n",
    "    x=range(0, 200001, 1000),\n",
    "    y=sub_coverage_until_half,\n",
    "    ax=axes[0],\n",
    ")\n",
    "axes[0].set_xlim(0, 400000)\n",
    "axes[0].set_ylim(0, cumulative_coverage[-1])\n",
    "axes[0].set_xticks([0, 100000, 200000, 300000, 400000])\n",
    "axes[0].set_xlabel(\"Number of inputs\")\n",
    "axes[0].set_ylabel(\"Number of unique coverages\")\n",
    "\n",
    "# 2.\n",
    "sns.lineplot(\n",
    "    x=range(0, 400001, 1000),\n",
    "    y=coverage_ateach_1000trial,\n",
    "    ax=axes[1],\n",
    ")\n",
    "axes[1].set_xlabel(\"Number of inputs\")\n",
    "axes[1].set_ylabel(\"Number of unique coverages\")\n",
    "\n",
    "# 3.\n",
    "sns.lineplot(\n",
    "    x=range(0, 200001, 1000),\n",
    "    y=sub_coverage_until_half,\n",
    "    ax=axes[2],\n",
    "    color=\"black\",\n",
    ")\n",
    "sns.lineplot(\n",
    "    x=range(201000, 400001, 1000),\n",
    "    y=extrapolated[999::1000],\n",
    "    ax=axes[2],\n",
    "    color=\"blue\",\n",
    "    dashes=True,\n",
    ")\n",
    "sns.lineplot(\n",
    "    x=range(201000, 400001, 1000),\n",
    "    y=coverage_ateach_1000trial[201:],\n",
    "    ax=axes[2],\n",
    "    color=\"red\",\n",
    ")\n",
    "\n",
    "plt.show()"
   ]
  },
  {
   "cell_type": "markdown",
   "metadata": {},
   "source": [
    "***💡 Go back to the slides***"
   ]
  },
  {
   "cell_type": "markdown",
   "metadata": {},
   "source": [
    "# **Reaching Probability**: What is the probability of reaching a specific program element?"
   ]
  },
  {
   "cell_type": "markdown",
   "metadata": {},
   "source": [
    "### Let's consider an example of the control flow graph of a program.\n",
    "\n",
    "Starting from small one with five statements."
   ]
  },
  {
   "cell_type": "code",
   "execution_count": 16,
   "metadata": {},
   "outputs": [
    {
     "data": {
      "image/svg+xml": [
       "<?xml version=\"1.0\" encoding=\"UTF-8\" standalone=\"no\"?>\n",
       "<!DOCTYPE svg PUBLIC \"-//W3C//DTD SVG 1.1//EN\"\n",
       " \"http://www.w3.org/Graphics/SVG/1.1/DTD/svg11.dtd\">\n",
       "<!-- Generated by graphviz version 11.0.0 (20240428.1522)\n",
       " -->\n",
       "<!-- Pages: 1 -->\n",
       "<svg width=\"268pt\" height=\"399pt\"\n",
       " viewBox=\"0.00 0.00 268.00 399.00\" xmlns=\"http://www.w3.org/2000/svg\" xmlns:xlink=\"http://www.w3.org/1999/xlink\">\n",
       "<g id=\"graph0\" class=\"graph\" transform=\"scale(1 1) rotate(0) translate(4 395)\">\n",
       "<polygon fill=\"white\" stroke=\"none\" points=\"-4,4 -4,-395 264,-395 264,4 -4,4\"/>\n",
       "<!-- 0 -->\n",
       "<g id=\"node1\" class=\"node\">\n",
       "<title>0</title>\n",
       "<ellipse fill=\"none\" stroke=\"black\" cx=\"208\" cy=\"-356.5\" rx=\"27\" ry=\"18\"/>\n",
       "<text text-anchor=\"middle\" x=\"208\" y=\"-351.45\" font-family=\"Times,serif\" font-size=\"14.00\">0</text>\n",
       "<text text-anchor=\"middle\" x=\"155.12\" y=\"-377.7\" font-family=\"Times,serif\" font-size=\"14.00\">1.00e+00</text>\n",
       "</g>\n",
       "<!-- 1 -->\n",
       "<g id=\"node2\" class=\"node\">\n",
       "<title>1</title>\n",
       "<ellipse fill=\"none\" stroke=\"black\" cx=\"181\" cy=\"-268\" rx=\"27\" ry=\"18\"/>\n",
       "<text text-anchor=\"middle\" x=\"181\" y=\"-262.95\" font-family=\"Times,serif\" font-size=\"14.00\">1</text>\n",
       "<text text-anchor=\"middle\" x=\"130\" y=\"-289.2\" font-family=\"Times,serif\" font-size=\"14.00\">1.08e&#45;01</text>\n",
       "</g>\n",
       "<!-- 0&#45;&gt;1 -->\n",
       "<g id=\"edge3\" class=\"edge\">\n",
       "<title>0&#45;&gt;1</title>\n",
       "<path fill=\"none\" stroke=\"black\" d=\"M202.67,-338.41C198.97,-326.56 193.96,-310.52 189.69,-296.84\"/>\n",
       "<polygon fill=\"black\" stroke=\"black\" points=\"193.09,-296 186.77,-287.5 186.41,-298.09 193.09,-296\"/>\n",
       "<text text-anchor=\"middle\" x=\"208\" y=\"-307.2\" font-family=\"Times,serif\" font-size=\"14.00\">0.11</text>\n",
       "</g>\n",
       "<!-- 4 -->\n",
       "<g id=\"node5\" class=\"node\">\n",
       "<title>4</title>\n",
       "<ellipse fill=\"none\" stroke=\"black\" cx=\"164\" cy=\"-18\" rx=\"27\" ry=\"18\"/>\n",
       "<text text-anchor=\"middle\" x=\"164\" y=\"-12.95\" font-family=\"Times,serif\" font-size=\"14.00\">4</text>\n",
       "<text text-anchor=\"middle\" x=\"111.12\" y=\"-39.2\" font-family=\"Times,serif\" font-size=\"14.00\">1.00e+00</text>\n",
       "</g>\n",
       "<!-- 0&#45;&gt;4 -->\n",
       "<g id=\"edge2\" class=\"edge\">\n",
       "<title>0&#45;&gt;4</title>\n",
       "<path fill=\"none\" stroke=\"black\" d=\"M216.71,-339.1C224.93,-322.07 236,-294.41 236,-269 236,-269 236,-269 236,-90 236,-65.63 214.83,-46.82 195.45,-34.7\"/>\n",
       "<polygon fill=\"black\" stroke=\"black\" points=\"197.32,-31.73 186.91,-29.73 193.8,-37.78 197.32,-31.73\"/>\n",
       "<text text-anchor=\"middle\" x=\"248\" y=\"-174.45\" font-family=\"Times,serif\" font-size=\"14.00\">0.89</text>\n",
       "</g>\n",
       "<!-- 2 -->\n",
       "<g id=\"node3\" class=\"node\">\n",
       "<title>2</title>\n",
       "<ellipse fill=\"none\" stroke=\"black\" cx=\"135\" cy=\"-179.5\" rx=\"27\" ry=\"18\"/>\n",
       "<text text-anchor=\"middle\" x=\"135\" y=\"-174.45\" font-family=\"Times,serif\" font-size=\"14.00\">2</text>\n",
       "<text text-anchor=\"middle\" x=\"84\" y=\"-200.7\" font-family=\"Times,serif\" font-size=\"14.00\">2.95e&#45;02</text>\n",
       "</g>\n",
       "<!-- 1&#45;&gt;2 -->\n",
       "<g id=\"edge4\" class=\"edge\">\n",
       "<title>1&#45;&gt;2</title>\n",
       "<path fill=\"none\" stroke=\"black\" d=\"M166.67,-252.23C161.5,-246.3 155.97,-239.18 152,-232 147.96,-224.69 144.68,-216.27 142.11,-208.38\"/>\n",
       "<polygon fill=\"black\" stroke=\"black\" points=\"145.48,-207.44 139.3,-198.84 138.77,-209.42 145.48,-207.44\"/>\n",
       "<text text-anchor=\"middle\" x=\"164\" y=\"-218.7\" font-family=\"Times,serif\" font-size=\"14.00\">0.27</text>\n",
       "</g>\n",
       "<!-- 1&#45;&gt;4 -->\n",
       "<g id=\"edge5\" class=\"edge\">\n",
       "<title>1&#45;&gt;4</title>\n",
       "<path fill=\"none\" stroke=\"black\" d=\"M181.67,-249.53C182.74,-215.43 183.95,-137.71 176,-73 174.95,-64.45 173.16,-55.26 171.28,-46.93\"/>\n",
       "<polygon fill=\"black\" stroke=\"black\" points=\"174.72,-46.26 168.98,-37.35 167.91,-47.89 174.72,-46.26\"/>\n",
       "<text text-anchor=\"middle\" x=\"193\" y=\"-130.2\" font-family=\"Times,serif\" font-size=\"14.00\">0.73</text>\n",
       "</g>\n",
       "<!-- 3 -->\n",
       "<g id=\"node4\" class=\"node\">\n",
       "<title>3</title>\n",
       "<ellipse fill=\"none\" stroke=\"black\" cx=\"75\" cy=\"-91\" rx=\"27\" ry=\"18\"/>\n",
       "<text text-anchor=\"middle\" x=\"75\" y=\"-85.95\" font-family=\"Times,serif\" font-size=\"14.00\">3</text>\n",
       "<text text-anchor=\"middle\" x=\"24\" y=\"-112.2\" font-family=\"Times,serif\" font-size=\"14.00\">6.15e&#45;03</text>\n",
       "</g>\n",
       "<!-- 2&#45;&gt;3 -->\n",
       "<g id=\"edge7\" class=\"edge\">\n",
       "<title>2&#45;&gt;3</title>\n",
       "<path fill=\"none\" stroke=\"black\" d=\"M119.18,-164.85C112.72,-158.75 105.48,-151.2 100,-143.5 94.63,-135.96 89.86,-127.08 85.96,-118.84\"/>\n",
       "<polygon fill=\"black\" stroke=\"black\" points=\"89.25,-117.63 81.98,-109.93 82.86,-120.49 89.25,-117.63\"/>\n",
       "<text text-anchor=\"middle\" x=\"112\" y=\"-130.2\" font-family=\"Times,serif\" font-size=\"14.00\">0.21</text>\n",
       "</g>\n",
       "<!-- 2&#45;&gt;4 -->\n",
       "<g id=\"edge6\" class=\"edge\">\n",
       "<title>2&#45;&gt;4</title>\n",
       "<path fill=\"none\" stroke=\"black\" d=\"M137.46,-161.27C140.52,-140.34 146.07,-103.98 152,-73 153.62,-64.54 155.58,-55.37 157.44,-47.04\"/>\n",
       "<polygon fill=\"black\" stroke=\"black\" points=\"160.82,-47.97 159.62,-37.45 153.99,-46.42 160.82,-47.97\"/>\n",
       "<text text-anchor=\"middle\" x=\"164\" y=\"-85.95\" font-family=\"Times,serif\" font-size=\"14.00\">0.79</text>\n",
       "</g>\n",
       "<!-- 3&#45;&gt;4 -->\n",
       "<g id=\"edge1\" class=\"edge\">\n",
       "<title>3&#45;&gt;4</title>\n",
       "<path fill=\"none\" stroke=\"black\" d=\"M91.74,-76.65C104.83,-66.2 123.27,-51.5 138.24,-39.55\"/>\n",
       "<polygon fill=\"black\" stroke=\"black\" points=\"140.21,-42.45 145.85,-33.48 135.85,-36.98 140.21,-42.45\"/>\n",
       "</g>\n",
       "</g>\n",
       "</svg>\n"
      ],
      "text/plain": [
       "<graphviz.graphs.Digraph at 0x10f4b8b50>"
      ]
     },
     "metadata": {},
     "output_type": "display_data"
    },
    {
     "name": "stdout",
     "output_type": "stream",
     "text": [
      "Min prob: 0.00614593848538574 at node 3\n"
     ]
    }
   ],
   "source": [
    "from bn import SimpleBN\n",
    "import numpy as np\n",
    "\n",
    "np.random.seed(0)\n",
    "sbn = SimpleBN(5)\n",
    "display(sbn.draw())\n",
    "min_prob = min(sbn.reach_prob_dict.values())\n",
    "min_nidx = min(sbn.reach_prob_dict, key=sbn.reach_prob_dict.get)\n",
    "print(f\"Min prob: {min_prob} at node {min_nidx}\")\n"
   ]
  },
  {
   "cell_type": "markdown",
   "metadata": {},
   "source": [
    "Of course, there's some issue with using the bayesian network for CFGs.\n",
    "- Using the bayesian network for CFGs means the branch conditions are independent.\n",
    "- Which is not true in general.\n",
    "  \n",
    "But, it's a fair approximation for the exercises :)"
   ]
  },
  {
   "cell_type": "markdown",
   "metadata": {},
   "source": [
    "Edge list:"
   ]
  },
  {
   "cell_type": "code",
   "execution_count": 17,
   "metadata": {},
   "outputs": [
    {
     "data": {
      "text/plain": [
       "{0: (0, 1), 1: (0, 4), 2: (1, 2), 3: (1, 4), 4: (2, 3), 5: (2, 4), 6: (3, 4)}"
      ]
     },
     "metadata": {},
     "output_type": "display_data"
    }
   ],
   "source": [
    "display(sbn.edgeidx2edge)"
   ]
  },
  {
   "cell_type": "markdown",
   "metadata": {},
   "source": [
    "Generate execution"
   ]
  },
  {
   "cell_type": "code",
   "execution_count": 18,
   "metadata": {},
   "outputs": [
    {
     "data": {
      "text/plain": [
       "array([0, 1, 0, 0, 0, 0, 0], dtype=int8)"
      ]
     },
     "execution_count": 18,
     "metadata": {},
     "output_type": "execute_result"
    }
   ],
   "source": [
    "sbn.gen_obss(1)[0]"
   ]
  },
  {
   "cell_type": "code",
   "execution_count": 19,
   "metadata": {},
   "outputs": [
    {
     "data": {
      "text/plain": [
       "array([[0, 1, 0, 0, 0, 0, 0],\n",
       "       [1, 0, 1, 0, 0, 1, 0],\n",
       "       [0, 1, 0, 0, 0, 0, 0],\n",
       "       [0, 1, 0, 0, 0, 0, 0],\n",
       "       [0, 1, 0, 0, 0, 0, 0],\n",
       "       [0, 1, 0, 0, 0, 0, 0],\n",
       "       [1, 0, 0, 1, 0, 0, 0],\n",
       "       [0, 1, 0, 0, 0, 0, 0],\n",
       "       [0, 1, 0, 0, 0, 0, 0],\n",
       "       [0, 1, 0, 0, 0, 0, 0],\n",
       "       [0, 1, 0, 0, 0, 0, 0],\n",
       "       [0, 1, 0, 0, 0, 0, 0],\n",
       "       [1, 0, 0, 1, 0, 0, 0],\n",
       "       [0, 1, 0, 0, 0, 0, 0],\n",
       "       [0, 1, 0, 0, 0, 0, 0],\n",
       "       [0, 1, 0, 0, 0, 0, 0],\n",
       "       [0, 1, 0, 0, 0, 0, 0],\n",
       "       [0, 1, 0, 0, 0, 0, 0],\n",
       "       [0, 1, 0, 0, 0, 0, 0],\n",
       "       [0, 1, 0, 0, 0, 0, 0]], dtype=int8)"
      ]
     },
     "metadata": {},
     "output_type": "display_data"
    },
    {
     "data": {
      "text/plain": [
       "array([[1, 0, 0, 0, 1],\n",
       "       [1, 1, 1, 0, 1],\n",
       "       [1, 0, 0, 0, 1],\n",
       "       [1, 0, 0, 0, 1],\n",
       "       [1, 0, 0, 0, 1],\n",
       "       [1, 0, 0, 0, 1],\n",
       "       [1, 1, 0, 0, 1],\n",
       "       [1, 0, 0, 0, 1],\n",
       "       [1, 0, 0, 0, 1],\n",
       "       [1, 0, 0, 0, 1],\n",
       "       [1, 0, 0, 0, 1],\n",
       "       [1, 0, 0, 0, 1],\n",
       "       [1, 1, 0, 0, 1],\n",
       "       [1, 0, 0, 0, 1],\n",
       "       [1, 0, 0, 0, 1],\n",
       "       [1, 0, 0, 0, 1],\n",
       "       [1, 0, 0, 0, 1],\n",
       "       [1, 0, 0, 0, 1],\n",
       "       [1, 0, 0, 0, 1],\n",
       "       [1, 0, 0, 0, 1]], dtype=int8)"
      ]
     },
     "metadata": {},
     "output_type": "display_data"
    },
    {
     "data": {
      "text/plain": [
       "array([0, 1, 2, 4])"
      ]
     },
     "metadata": {},
     "output_type": "display_data"
    }
   ],
   "source": [
    "edge_cov = sbn.gen_obss(20)\n",
    "display(edge_cov)\n",
    "\n",
    "node_cov = sbn.edgecov2nodecov(edge_cov)\n",
    "display(node_cov)\n",
    "\n",
    "covered_nodes = np.logical_or.reduce(node_cov, 0).astype(np.int8)\n",
    "covered_node_idxs = np.nonzero(covered_nodes)[0]\n",
    "display(covered_node_idxs)"
   ]
  },
  {
   "cell_type": "markdown",
   "metadata": {},
   "source": [
    "Let's consider a little bit bigger program."
   ]
  },
  {
   "cell_type": "code",
   "execution_count": 20,
   "metadata": {},
   "outputs": [
    {
     "data": {
      "image/svg+xml": [
       "<?xml version=\"1.0\" encoding=\"UTF-8\" standalone=\"no\"?>\n",
       "<!DOCTYPE svg PUBLIC \"-//W3C//DTD SVG 1.1//EN\"\n",
       " \"http://www.w3.org/Graphics/SVG/1.1/DTD/svg11.dtd\">\n",
       "<!-- Generated by graphviz version 11.0.0 (20240428.1522)\n",
       " -->\n",
       "<!-- Pages: 1 -->\n",
       "<svg width=\"767pt\" height=\"930pt\"\n",
       " viewBox=\"0.00 0.00 767.00 930.00\" xmlns=\"http://www.w3.org/2000/svg\" xmlns:xlink=\"http://www.w3.org/1999/xlink\">\n",
       "<g id=\"graph0\" class=\"graph\" transform=\"scale(1 1) rotate(0) translate(4 926)\">\n",
       "<polygon fill=\"white\" stroke=\"none\" points=\"-4,4 -4,-926 763,-926 763,4 -4,4\"/>\n",
       "<!-- 0 -->\n",
       "<g id=\"node1\" class=\"node\">\n",
       "<title>0</title>\n",
       "<ellipse fill=\"none\" stroke=\"black\" cx=\"316\" cy=\"-887.5\" rx=\"27\" ry=\"18\"/>\n",
       "<text text-anchor=\"middle\" x=\"316\" y=\"-882.45\" font-family=\"Times,serif\" font-size=\"14.00\">0</text>\n",
       "<text text-anchor=\"middle\" x=\"263.12\" y=\"-908.7\" font-family=\"Times,serif\" font-size=\"14.00\">1.00e+00</text>\n",
       "</g>\n",
       "<!-- 1 -->\n",
       "<g id=\"node2\" class=\"node\">\n",
       "<title>1</title>\n",
       "<ellipse fill=\"none\" stroke=\"black\" cx=\"359\" cy=\"-799\" rx=\"27\" ry=\"18\"/>\n",
       "<text text-anchor=\"middle\" x=\"359\" y=\"-793.95\" font-family=\"Times,serif\" font-size=\"14.00\">1</text>\n",
       "<text text-anchor=\"middle\" x=\"308\" y=\"-820.2\" font-family=\"Times,serif\" font-size=\"14.00\">6.41e&#45;01</text>\n",
       "</g>\n",
       "<!-- 0&#45;&gt;1 -->\n",
       "<g id=\"edge6\" class=\"edge\">\n",
       "<title>0&#45;&gt;1</title>\n",
       "<path fill=\"none\" stroke=\"black\" d=\"M324.09,-870.23C330.18,-857.98 338.65,-840.93 345.73,-826.7\"/>\n",
       "<polygon fill=\"black\" stroke=\"black\" points=\"348.81,-828.36 350.13,-817.85 342.54,-825.24 348.81,-828.36\"/>\n",
       "<text text-anchor=\"middle\" x=\"353\" y=\"-838.2\" font-family=\"Times,serif\" font-size=\"14.00\">0.64</text>\n",
       "</g>\n",
       "<!-- 3 -->\n",
       "<g id=\"node4\" class=\"node\">\n",
       "<title>3</title>\n",
       "<ellipse fill=\"none\" stroke=\"black\" cx=\"281\" cy=\"-622\" rx=\"27\" ry=\"18\"/>\n",
       "<text text-anchor=\"middle\" x=\"281\" y=\"-616.95\" font-family=\"Times,serif\" font-size=\"14.00\">3</text>\n",
       "<text text-anchor=\"middle\" x=\"230\" y=\"-643.2\" font-family=\"Times,serif\" font-size=\"14.00\">3.59e&#45;01</text>\n",
       "</g>\n",
       "<!-- 0&#45;&gt;3 -->\n",
       "<g id=\"edge5\" class=\"edge\">\n",
       "<title>0&#45;&gt;3</title>\n",
       "<path fill=\"none\" stroke=\"black\" d=\"M313.7,-869.21C307.81,-824.82 292.09,-706.49 284.81,-651.65\"/>\n",
       "<polygon fill=\"black\" stroke=\"black\" points=\"288.29,-651.31 283.5,-641.85 281.35,-652.23 288.29,-651.31\"/>\n",
       "<text text-anchor=\"middle\" x=\"311\" y=\"-749.7\" font-family=\"Times,serif\" font-size=\"14.00\">0.36</text>\n",
       "</g>\n",
       "<!-- 2 -->\n",
       "<g id=\"node3\" class=\"node\">\n",
       "<title>2</title>\n",
       "<ellipse fill=\"none\" stroke=\"black\" cx=\"359\" cy=\"-445\" rx=\"27\" ry=\"18\"/>\n",
       "<text text-anchor=\"middle\" x=\"359\" y=\"-439.95\" font-family=\"Times,serif\" font-size=\"14.00\">2</text>\n",
       "<text text-anchor=\"middle\" x=\"308\" y=\"-466.2\" font-family=\"Times,serif\" font-size=\"14.00\">5.89e&#45;01</text>\n",
       "</g>\n",
       "<!-- 1&#45;&gt;2 -->\n",
       "<g id=\"edge8\" class=\"edge\">\n",
       "<title>1&#45;&gt;2</title>\n",
       "<path fill=\"none\" stroke=\"black\" d=\"M359,-780.77C359,-763.31 359,-735.53 359,-711.5 359,-711.5 359,-711.5 359,-532.5 359,-513.17 359,-491.4 359,-474.54\"/>\n",
       "<polygon fill=\"black\" stroke=\"black\" points=\"362.5,-474.75 359,-464.75 355.5,-474.75 362.5,-474.75\"/>\n",
       "<text text-anchor=\"middle\" x=\"371\" y=\"-616.95\" font-family=\"Times,serif\" font-size=\"14.00\">0.92</text>\n",
       "</g>\n",
       "<!-- 4 -->\n",
       "<g id=\"node5\" class=\"node\">\n",
       "<title>4</title>\n",
       "<ellipse fill=\"none\" stroke=\"black\" cx=\"450\" cy=\"-710.5\" rx=\"27\" ry=\"18\"/>\n",
       "<text text-anchor=\"middle\" x=\"450\" y=\"-705.45\" font-family=\"Times,serif\" font-size=\"14.00\">4</text>\n",
       "<text text-anchor=\"middle\" x=\"399\" y=\"-731.7\" font-family=\"Times,serif\" font-size=\"14.00\">5.20e&#45;02</text>\n",
       "</g>\n",
       "<!-- 1&#45;&gt;4 -->\n",
       "<g id=\"edge7\" class=\"edge\">\n",
       "<title>1&#45;&gt;4</title>\n",
       "<path fill=\"none\" stroke=\"black\" d=\"M374.03,-783.72C388.38,-770.07 410.24,-749.3 426.82,-733.53\"/>\n",
       "<polygon fill=\"black\" stroke=\"black\" points=\"429.02,-736.27 433.85,-726.85 424.19,-731.2 429.02,-736.27\"/>\n",
       "<text text-anchor=\"middle\" x=\"424\" y=\"-749.7\" font-family=\"Times,serif\" font-size=\"14.00\">0.08</text>\n",
       "</g>\n",
       "<!-- 8 -->\n",
       "<g id=\"node9\" class=\"node\">\n",
       "<title>8</title>\n",
       "<ellipse fill=\"none\" stroke=\"black\" cx=\"313\" cy=\"-356.5\" rx=\"27\" ry=\"18\"/>\n",
       "<text text-anchor=\"middle\" x=\"313\" y=\"-351.45\" font-family=\"Times,serif\" font-size=\"14.00\">8</text>\n",
       "<text text-anchor=\"middle\" x=\"262\" y=\"-377.7\" font-family=\"Times,serif\" font-size=\"14.00\">1.32e&#45;01</text>\n",
       "</g>\n",
       "<!-- 2&#45;&gt;8 -->\n",
       "<g id=\"edge10\" class=\"edge\">\n",
       "<title>2&#45;&gt;8</title>\n",
       "<path fill=\"none\" stroke=\"black\" d=\"M344.67,-429.23C339.5,-423.3 333.97,-416.18 330,-409 325.96,-401.69 322.68,-393.27 320.11,-385.38\"/>\n",
       "<polygon fill=\"black\" stroke=\"black\" points=\"323.48,-384.44 317.3,-375.84 316.77,-386.42 323.48,-384.44\"/>\n",
       "<text text-anchor=\"middle\" x=\"342\" y=\"-395.7\" font-family=\"Times,serif\" font-size=\"14.00\">0.22</text>\n",
       "</g>\n",
       "<!-- 22 -->\n",
       "<g id=\"node23\" class=\"node\">\n",
       "<title>22</title>\n",
       "<ellipse fill=\"none\" stroke=\"black\" cx=\"520\" cy=\"-91\" rx=\"27\" ry=\"18\"/>\n",
       "<text text-anchor=\"middle\" x=\"520\" y=\"-85.95\" font-family=\"Times,serif\" font-size=\"14.00\">22</text>\n",
       "<text text-anchor=\"middle\" x=\"469\" y=\"-112.2\" font-family=\"Times,serif\" font-size=\"14.00\">4.74e&#45;01</text>\n",
       "</g>\n",
       "<!-- 2&#45;&gt;22 -->\n",
       "<g id=\"edge9\" class=\"edge\">\n",
       "<title>2&#45;&gt;22</title>\n",
       "<path fill=\"none\" stroke=\"black\" d=\"M358.92,-426.54C359.38,-391.47 363.61,-310.67 391,-250 394.48,-242.29 464.57,-158.15 499.94,-115.9\"/>\n",
       "<polygon fill=\"black\" stroke=\"black\" points=\"502.41,-118.4 506.15,-108.49 497.05,-113.91 502.41,-118.4\"/>\n",
       "<text text-anchor=\"middle\" x=\"403\" y=\"-262.95\" font-family=\"Times,serif\" font-size=\"14.00\">0.78</text>\n",
       "</g>\n",
       "<!-- 5 -->\n",
       "<g id=\"node6\" class=\"node\">\n",
       "<title>5</title>\n",
       "<ellipse fill=\"none\" stroke=\"black\" cx=\"187\" cy=\"-533.5\" rx=\"27\" ry=\"18\"/>\n",
       "<text text-anchor=\"middle\" x=\"187\" y=\"-528.45\" font-family=\"Times,serif\" font-size=\"14.00\">5</text>\n",
       "<text text-anchor=\"middle\" x=\"136\" y=\"-554.7\" font-family=\"Times,serif\" font-size=\"14.00\">3.12e&#45;01</text>\n",
       "</g>\n",
       "<!-- 3&#45;&gt;5 -->\n",
       "<g id=\"edge12\" class=\"edge\">\n",
       "<title>3&#45;&gt;5</title>\n",
       "<path fill=\"none\" stroke=\"black\" d=\"M265.9,-607.1C251.05,-593.44 228.16,-572.37 210.85,-556.44\"/>\n",
       "<polygon fill=\"black\" stroke=\"black\" points=\"213.22,-553.87 203.49,-549.68 208.48,-559.02 213.22,-553.87\"/>\n",
       "<text text-anchor=\"middle\" x=\"254\" y=\"-572.7\" font-family=\"Times,serif\" font-size=\"14.00\">0.87</text>\n",
       "</g>\n",
       "<!-- 11 -->\n",
       "<g id=\"node12\" class=\"node\">\n",
       "<title>11</title>\n",
       "<ellipse fill=\"none\" stroke=\"black\" cx=\"281\" cy=\"-533.5\" rx=\"27\" ry=\"18\"/>\n",
       "<text text-anchor=\"middle\" x=\"281\" y=\"-528.45\" font-family=\"Times,serif\" font-size=\"14.00\">11</text>\n",
       "<text text-anchor=\"middle\" x=\"230\" y=\"-554.7\" font-family=\"Times,serif\" font-size=\"14.00\">4.76e&#45;02</text>\n",
       "</g>\n",
       "<!-- 3&#45;&gt;11 -->\n",
       "<g id=\"edge11\" class=\"edge\">\n",
       "<title>3&#45;&gt;11</title>\n",
       "<path fill=\"none\" stroke=\"black\" d=\"M281,-603.91C281,-592.26 281,-576.55 281,-563.02\"/>\n",
       "<polygon fill=\"black\" stroke=\"black\" points=\"284.5,-563.36 281,-553.36 277.5,-563.36 284.5,-563.36\"/>\n",
       "<text text-anchor=\"middle\" x=\"293\" y=\"-572.7\" font-family=\"Times,serif\" font-size=\"14.00\">0.13</text>\n",
       "</g>\n",
       "<!-- 6 -->\n",
       "<g id=\"node7\" class=\"node\">\n",
       "<title>6</title>\n",
       "<ellipse fill=\"none\" stroke=\"black\" cx=\"450\" cy=\"-445\" rx=\"27\" ry=\"18\"/>\n",
       "<text text-anchor=\"middle\" x=\"450\" y=\"-439.95\" font-family=\"Times,serif\" font-size=\"14.00\">6</text>\n",
       "<text text-anchor=\"middle\" x=\"399\" y=\"-466.2\" font-family=\"Times,serif\" font-size=\"14.00\">4.95e&#45;02</text>\n",
       "</g>\n",
       "<!-- 4&#45;&gt;6 -->\n",
       "<g id=\"edge13\" class=\"edge\">\n",
       "<title>4&#45;&gt;6</title>\n",
       "<path fill=\"none\" stroke=\"black\" d=\"M450,-692.21C450,-647.82 450,-529.49 450,-474.65\"/>\n",
       "<polygon fill=\"black\" stroke=\"black\" points=\"453.5,-474.87 450,-464.87 446.5,-474.87 453.5,-474.87\"/>\n",
       "<text text-anchor=\"middle\" x=\"462\" y=\"-572.7\" font-family=\"Times,serif\" font-size=\"14.00\">0.95</text>\n",
       "</g>\n",
       "<!-- 7 -->\n",
       "<g id=\"node8\" class=\"node\">\n",
       "<title>7</title>\n",
       "<ellipse fill=\"none\" stroke=\"black\" cx=\"628\" cy=\"-622\" rx=\"27\" ry=\"18\"/>\n",
       "<text text-anchor=\"middle\" x=\"628\" y=\"-616.95\" font-family=\"Times,serif\" font-size=\"14.00\">7</text>\n",
       "<text text-anchor=\"middle\" x=\"577\" y=\"-643.2\" font-family=\"Times,serif\" font-size=\"14.00\">2.45e&#45;03</text>\n",
       "</g>\n",
       "<!-- 4&#45;&gt;7 -->\n",
       "<g id=\"edge14\" class=\"edge\">\n",
       "<title>4&#45;&gt;7</title>\n",
       "<path fill=\"none\" stroke=\"black\" d=\"M471.47,-699.07C502.61,-683.93 560.5,-655.8 596.48,-638.32\"/>\n",
       "<polygon fill=\"black\" stroke=\"black\" points=\"597.63,-641.65 605.09,-634.13 594.57,-635.36 597.63,-641.65\"/>\n",
       "<text text-anchor=\"middle\" x=\"566\" y=\"-661.2\" font-family=\"Times,serif\" font-size=\"14.00\">0.05</text>\n",
       "</g>\n",
       "<!-- 9 -->\n",
       "<g id=\"node10\" class=\"node\">\n",
       "<title>9</title>\n",
       "<ellipse fill=\"none\" stroke=\"black\" cx=\"187\" cy=\"-445\" rx=\"27\" ry=\"18\"/>\n",
       "<text text-anchor=\"middle\" x=\"187\" y=\"-439.95\" font-family=\"Times,serif\" font-size=\"14.00\">9</text>\n",
       "<text text-anchor=\"middle\" x=\"136\" y=\"-466.2\" font-family=\"Times,serif\" font-size=\"14.00\">3.56e&#45;03</text>\n",
       "</g>\n",
       "<!-- 5&#45;&gt;9 -->\n",
       "<g id=\"edge15\" class=\"edge\">\n",
       "<title>5&#45;&gt;9</title>\n",
       "<path fill=\"none\" stroke=\"black\" d=\"M187,-515.41C187,-503.76 187,-488.05 187,-474.52\"/>\n",
       "<polygon fill=\"black\" stroke=\"black\" points=\"190.5,-474.86 187,-464.86 183.5,-474.86 190.5,-474.86\"/>\n",
       "<text text-anchor=\"middle\" x=\"199\" y=\"-484.2\" font-family=\"Times,serif\" font-size=\"14.00\">0.01</text>\n",
       "</g>\n",
       "<!-- 28 -->\n",
       "<g id=\"node29\" class=\"node\">\n",
       "<title>28</title>\n",
       "<ellipse fill=\"none\" stroke=\"black\" cx=\"224\" cy=\"-91\" rx=\"27\" ry=\"18\"/>\n",
       "<text text-anchor=\"middle\" x=\"224\" y=\"-85.95\" font-family=\"Times,serif\" font-size=\"14.00\">28</text>\n",
       "<text text-anchor=\"middle\" x=\"173\" y=\"-112.2\" font-family=\"Times,serif\" font-size=\"14.00\">3.16e&#45;01</text>\n",
       "</g>\n",
       "<!-- 5&#45;&gt;28 -->\n",
       "<g id=\"edge16\" class=\"edge\">\n",
       "<title>5&#45;&gt;28</title>\n",
       "<path fill=\"none\" stroke=\"black\" d=\"M167.44,-520.83C145.81,-506.27 114,-479.21 114,-446 114,-446 114,-446 114,-178.5 114,-139.65 156.93,-115.58 189.15,-102.99\"/>\n",
       "<polygon fill=\"black\" stroke=\"black\" points=\"189.99,-106.41 198.17,-99.68 187.57,-99.84 189.99,-106.41\"/>\n",
       "<text text-anchor=\"middle\" x=\"126\" y=\"-307.2\" font-family=\"Times,serif\" font-size=\"14.00\">0.99</text>\n",
       "</g>\n",
       "<!-- 14 -->\n",
       "<g id=\"node15\" class=\"node\">\n",
       "<title>14</title>\n",
       "<ellipse fill=\"none\" stroke=\"black\" cx=\"423\" cy=\"-356.5\" rx=\"27\" ry=\"18\"/>\n",
       "<text text-anchor=\"middle\" x=\"423\" y=\"-351.45\" font-family=\"Times,serif\" font-size=\"14.00\">14</text>\n",
       "<text text-anchor=\"middle\" x=\"372\" y=\"-377.7\" font-family=\"Times,serif\" font-size=\"14.00\">3.53e&#45;02</text>\n",
       "</g>\n",
       "<!-- 6&#45;&gt;14 -->\n",
       "<g id=\"edge18\" class=\"edge\">\n",
       "<title>6&#45;&gt;14</title>\n",
       "<path fill=\"none\" stroke=\"black\" d=\"M444.67,-426.91C440.97,-415.06 435.96,-399.02 431.69,-385.34\"/>\n",
       "<polygon fill=\"black\" stroke=\"black\" points=\"435.09,-384.5 428.77,-376 428.41,-386.59 435.09,-384.5\"/>\n",
       "<text text-anchor=\"middle\" x=\"450\" y=\"-395.7\" font-family=\"Times,serif\" font-size=\"14.00\">0.70</text>\n",
       "</g>\n",
       "<!-- 6&#45;&gt;22 -->\n",
       "<g id=\"edge17\" class=\"edge\">\n",
       "<title>6&#45;&gt;22</title>\n",
       "<path fill=\"none\" stroke=\"black\" d=\"M476.81,-441.43C514.67,-436.2 582.56,-420.57 613,-374.5 665.19,-295.52 655.41,-246.14 613,-161.5 600.43,-136.41 574.03,-118.06 552.55,-106.53\"/>\n",
       "<polygon fill=\"black\" stroke=\"black\" points=\"554.34,-103.51 543.84,-102.11 551.17,-109.76 554.34,-103.51\"/>\n",
       "<text text-anchor=\"middle\" x=\"660\" y=\"-262.95\" font-family=\"Times,serif\" font-size=\"14.00\">0.30</text>\n",
       "</g>\n",
       "<!-- 10 -->\n",
       "<g id=\"node11\" class=\"node\">\n",
       "<title>10</title>\n",
       "<ellipse fill=\"none\" stroke=\"black\" cx=\"628\" cy=\"-533.5\" rx=\"27\" ry=\"18\"/>\n",
       "<text text-anchor=\"middle\" x=\"628\" y=\"-528.45\" font-family=\"Times,serif\" font-size=\"14.00\">10</text>\n",
       "<text text-anchor=\"middle\" x=\"577\" y=\"-554.7\" font-family=\"Times,serif\" font-size=\"14.00\">1.95e&#45;04</text>\n",
       "</g>\n",
       "<!-- 7&#45;&gt;10 -->\n",
       "<g id=\"edge19\" class=\"edge\">\n",
       "<title>7&#45;&gt;10</title>\n",
       "<path fill=\"none\" stroke=\"black\" d=\"M628,-603.91C628,-592.26 628,-576.55 628,-563.02\"/>\n",
       "<polygon fill=\"black\" stroke=\"black\" points=\"631.5,-563.36 628,-553.36 624.5,-563.36 631.5,-563.36\"/>\n",
       "<text text-anchor=\"middle\" x=\"640\" y=\"-572.7\" font-family=\"Times,serif\" font-size=\"14.00\">0.08</text>\n",
       "</g>\n",
       "<!-- 27 -->\n",
       "<g id=\"node28\" class=\"node\">\n",
       "<title>27</title>\n",
       "<ellipse fill=\"none\" stroke=\"black\" cx=\"670\" cy=\"-18\" rx=\"27\" ry=\"18\"/>\n",
       "<text text-anchor=\"middle\" x=\"670\" y=\"-12.95\" font-family=\"Times,serif\" font-size=\"14.00\">27</text>\n",
       "<text text-anchor=\"middle\" x=\"619\" y=\"-39.2\" font-family=\"Times,serif\" font-size=\"14.00\">4.76e&#45;01</text>\n",
       "</g>\n",
       "<!-- 7&#45;&gt;27 -->\n",
       "<g id=\"edge20\" class=\"edge\">\n",
       "<title>7&#45;&gt;27</title>\n",
       "<path fill=\"none\" stroke=\"black\" d=\"M652.28,-613.45C683.85,-601.95 735,-576.78 735,-534.5 735,-534.5 735,-534.5 735,-90 735,-67.44 716.92,-48.93 699.84,-36.47\"/>\n",
       "<polygon fill=\"black\" stroke=\"black\" points=\"702.06,-33.75 691.82,-31.03 698.13,-39.54 702.06,-33.75\"/>\n",
       "<text text-anchor=\"middle\" x=\"747\" y=\"-307.2\" font-family=\"Times,serif\" font-size=\"14.00\">0.92</text>\n",
       "</g>\n",
       "<!-- 19 -->\n",
       "<g id=\"node20\" class=\"node\">\n",
       "<title>19</title>\n",
       "<ellipse fill=\"none\" stroke=\"black\" cx=\"169\" cy=\"-268\" rx=\"27\" ry=\"18\"/>\n",
       "<text text-anchor=\"middle\" x=\"169\" y=\"-262.95\" font-family=\"Times,serif\" font-size=\"14.00\">19</text>\n",
       "<text text-anchor=\"middle\" x=\"118\" y=\"-289.2\" font-family=\"Times,serif\" font-size=\"14.00\">4.40e&#45;02</text>\n",
       "</g>\n",
       "<!-- 8&#45;&gt;19 -->\n",
       "<g id=\"edge22\" class=\"edge\">\n",
       "<title>8&#45;&gt;19</title>\n",
       "<path fill=\"none\" stroke=\"black\" d=\"M306.76,-338.91C301.69,-327.57 293.5,-313.01 282,-304 260.33,-287.02 230.36,-278.22 206.74,-273.7\"/>\n",
       "<polygon fill=\"black\" stroke=\"black\" points=\"207.65,-270.3 197.2,-272.06 206.47,-277.2 207.65,-270.3\"/>\n",
       "<text text-anchor=\"middle\" x=\"308\" y=\"-307.2\" font-family=\"Times,serif\" font-size=\"14.00\">0.32</text>\n",
       "</g>\n",
       "<!-- 26 -->\n",
       "<g id=\"node27\" class=\"node\">\n",
       "<title>26</title>\n",
       "<ellipse fill=\"none\" stroke=\"black\" cx=\"321\" cy=\"-91\" rx=\"27\" ry=\"18\"/>\n",
       "<text text-anchor=\"middle\" x=\"321\" y=\"-85.95\" font-family=\"Times,serif\" font-size=\"14.00\">26</text>\n",
       "<text text-anchor=\"middle\" x=\"270\" y=\"-112.2\" font-family=\"Times,serif\" font-size=\"14.00\">1.31e&#45;01</text>\n",
       "</g>\n",
       "<!-- 8&#45;&gt;26 -->\n",
       "<g id=\"edge21\" class=\"edge\">\n",
       "<title>8&#45;&gt;26</title>\n",
       "<path fill=\"none\" stroke=\"black\" d=\"M319.43,-338.66C321.29,-332.98 323.07,-326.54 324,-320.5 325.11,-313.25 324.05,-311.33 324,-304 323.54,-238.45 322.27,-161.51 321.54,-120.75\"/>\n",
       "<polygon fill=\"black\" stroke=\"black\" points=\"325.04,-120.76 321.36,-110.82 318.04,-120.89 325.04,-120.76\"/>\n",
       "<text text-anchor=\"middle\" x=\"335\" y=\"-218.7\" font-family=\"Times,serif\" font-size=\"14.00\">0.68</text>\n",
       "</g>\n",
       "<!-- 9&#45;&gt;14 -->\n",
       "<g id=\"edge23\" class=\"edge\">\n",
       "<title>9&#45;&gt;14</title>\n",
       "<path fill=\"none\" stroke=\"black\" d=\"M207.42,-432.78C228.6,-421.47 262.9,-404.09 294,-392.5 324.5,-381.13 360.29,-371.72 386.43,-365.52\"/>\n",
       "<polygon fill=\"black\" stroke=\"black\" points=\"386.93,-369 395.88,-363.33 385.35,-362.18 386.93,-369\"/>\n",
       "<text text-anchor=\"middle\" x=\"306\" y=\"-395.7\" font-family=\"Times,serif\" font-size=\"14.00\">0.25</text>\n",
       "</g>\n",
       "<!-- 16 -->\n",
       "<g id=\"node17\" class=\"node\">\n",
       "<title>16</title>\n",
       "<ellipse fill=\"none\" stroke=\"black\" cx=\"171\" cy=\"-356.5\" rx=\"27\" ry=\"18\"/>\n",
       "<text text-anchor=\"middle\" x=\"171\" y=\"-351.45\" font-family=\"Times,serif\" font-size=\"14.00\">16</text>\n",
       "<text text-anchor=\"middle\" x=\"120\" y=\"-377.7\" font-family=\"Times,serif\" font-size=\"14.00\">2.69e&#45;03</text>\n",
       "</g>\n",
       "<!-- 9&#45;&gt;16 -->\n",
       "<g id=\"edge24\" class=\"edge\">\n",
       "<title>9&#45;&gt;16</title>\n",
       "<path fill=\"none\" stroke=\"black\" d=\"M178.47,-427.7C175.88,-421.95 173.36,-415.33 172,-409 170.44,-401.74 169.78,-393.78 169.61,-386.33\"/>\n",
       "<polygon fill=\"black\" stroke=\"black\" points=\"173.11,-386.4 169.68,-376.37 166.11,-386.35 173.11,-386.4\"/>\n",
       "<text text-anchor=\"middle\" x=\"184\" y=\"-395.7\" font-family=\"Times,serif\" font-size=\"14.00\">0.75</text>\n",
       "</g>\n",
       "<!-- 12 -->\n",
       "<g id=\"node13\" class=\"node\">\n",
       "<title>12</title>\n",
       "<ellipse fill=\"none\" stroke=\"black\" cx=\"670\" cy=\"-445\" rx=\"27\" ry=\"18\"/>\n",
       "<text text-anchor=\"middle\" x=\"670\" y=\"-439.95\" font-family=\"Times,serif\" font-size=\"14.00\">12</text>\n",
       "<text text-anchor=\"middle\" x=\"619\" y=\"-466.2\" font-family=\"Times,serif\" font-size=\"14.00\">4.83e&#45;05</text>\n",
       "</g>\n",
       "<!-- 10&#45;&gt;12 -->\n",
       "<g id=\"edge26\" class=\"edge\">\n",
       "<title>10&#45;&gt;12</title>\n",
       "<path fill=\"none\" stroke=\"black\" d=\"M636.1,-515.82C642.02,-503.62 650.19,-486.8 657.02,-472.73\"/>\n",
       "<polygon fill=\"black\" stroke=\"black\" points=\"660.05,-474.51 661.27,-463.99 653.75,-471.46 660.05,-474.51\"/>\n",
       "<text text-anchor=\"middle\" x=\"664\" y=\"-484.2\" font-family=\"Times,serif\" font-size=\"14.00\">0.25</text>\n",
       "</g>\n",
       "<!-- 13 -->\n",
       "<g id=\"node14\" class=\"node\">\n",
       "<title>13</title>\n",
       "<ellipse fill=\"none\" stroke=\"black\" cx=\"598\" cy=\"-445\" rx=\"27\" ry=\"18\"/>\n",
       "<text text-anchor=\"middle\" x=\"598\" y=\"-439.95\" font-family=\"Times,serif\" font-size=\"14.00\">13</text>\n",
       "<text text-anchor=\"middle\" x=\"547\" y=\"-466.2\" font-family=\"Times,serif\" font-size=\"14.00\">6.78e&#45;03</text>\n",
       "</g>\n",
       "<!-- 10&#45;&gt;13 -->\n",
       "<g id=\"edge25\" class=\"edge\">\n",
       "<title>10&#45;&gt;13</title>\n",
       "<path fill=\"none\" stroke=\"black\" d=\"M619.78,-516C617.09,-510.23 614.23,-503.66 612,-497.5 609.28,-489.98 606.8,-481.67 604.71,-473.97\"/>\n",
       "<polygon fill=\"black\" stroke=\"black\" points=\"608.13,-473.19 602.24,-464.38 601.35,-474.94 608.13,-473.19\"/>\n",
       "<text text-anchor=\"middle\" x=\"624\" y=\"-484.2\" font-family=\"Times,serif\" font-size=\"14.00\">0.75</text>\n",
       "</g>\n",
       "<!-- 11&#45;&gt;13 -->\n",
       "<g id=\"edge28\" class=\"edge\">\n",
       "<title>11&#45;&gt;13</title>\n",
       "<path fill=\"none\" stroke=\"black\" d=\"M305.87,-525.71C361.78,-510.46 497.51,-473.42 562.36,-455.73\"/>\n",
       "<polygon fill=\"black\" stroke=\"black\" points=\"563.06,-459.16 571.78,-453.15 561.21,-452.41 563.06,-459.16\"/>\n",
       "<text text-anchor=\"middle\" x=\"479\" y=\"-484.2\" font-family=\"Times,serif\" font-size=\"14.00\">0.14</text>\n",
       "</g>\n",
       "<!-- 11&#45;&gt;26 -->\n",
       "<g id=\"edge27\" class=\"edge\">\n",
       "<title>11&#45;&gt;26</title>\n",
       "<path fill=\"none\" stroke=\"black\" d=\"M275.86,-515.53C265.03,-477.53 241.85,-382.76 254,-304 264.57,-235.45 293.31,-158.69 309.51,-119.01\"/>\n",
       "<polygon fill=\"black\" stroke=\"black\" points=\"312.64,-120.59 313.23,-110.01 306.17,-117.91 312.64,-120.59\"/>\n",
       "<text text-anchor=\"middle\" x=\"266\" y=\"-307.2\" font-family=\"Times,serif\" font-size=\"14.00\">0.86</text>\n",
       "</g>\n",
       "<!-- 15 -->\n",
       "<g id=\"node16\" class=\"node\">\n",
       "<title>15</title>\n",
       "<ellipse fill=\"none\" stroke=\"black\" cx=\"577\" cy=\"-356.5\" rx=\"27\" ry=\"18\"/>\n",
       "<text text-anchor=\"middle\" x=\"577\" y=\"-351.45\" font-family=\"Times,serif\" font-size=\"14.00\">15</text>\n",
       "<text text-anchor=\"middle\" x=\"526\" y=\"-377.7\" font-family=\"Times,serif\" font-size=\"14.00\">4.66e&#45;06</text>\n",
       "</g>\n",
       "<!-- 12&#45;&gt;15 -->\n",
       "<g id=\"edge29\" class=\"edge\">\n",
       "<title>12&#45;&gt;15</title>\n",
       "<path fill=\"none\" stroke=\"black\" d=\"M661.45,-427.8C655.15,-416.92 645.83,-402.76 635,-392.5 627.25,-385.15 617.69,-378.61 608.6,-373.24\"/>\n",
       "<polygon fill=\"black\" stroke=\"black\" points=\"610.39,-370.23 599.96,-368.41 606.98,-376.34 610.39,-370.23\"/>\n",
       "<text text-anchor=\"middle\" x=\"660\" y=\"-395.7\" font-family=\"Times,serif\" font-size=\"14.00\">0.10</text>\n",
       "</g>\n",
       "<!-- 12&#45;&gt;27 -->\n",
       "<g id=\"edge30\" class=\"edge\">\n",
       "<title>12&#45;&gt;27</title>\n",
       "<path fill=\"none\" stroke=\"black\" d=\"M678.08,-427.54C685.72,-410.45 696,-382.75 696,-357.5 696,-357.5 696,-357.5 696,-90 696,-74.62 690.55,-58.44 684.64,-45.42\"/>\n",
       "<polygon fill=\"black\" stroke=\"black\" points=\"687.9,-44.1 680.35,-36.67 681.61,-47.19 687.9,-44.1\"/>\n",
       "<text text-anchor=\"middle\" x=\"708\" y=\"-218.7\" font-family=\"Times,serif\" font-size=\"14.00\">0.90</text>\n",
       "</g>\n",
       "<!-- 17 -->\n",
       "<g id=\"node18\" class=\"node\">\n",
       "<title>17</title>\n",
       "<ellipse fill=\"none\" stroke=\"black\" cx=\"495\" cy=\"-356.5\" rx=\"27\" ry=\"18\"/>\n",
       "<text text-anchor=\"middle\" x=\"495\" y=\"-351.45\" font-family=\"Times,serif\" font-size=\"14.00\">17</text>\n",
       "<text text-anchor=\"middle\" x=\"444\" y=\"-377.7\" font-family=\"Times,serif\" font-size=\"14.00\">6.78e&#45;03</text>\n",
       "</g>\n",
       "<!-- 13&#45;&gt;17 -->\n",
       "<g id=\"edge1\" class=\"edge\">\n",
       "<title>13&#45;&gt;17</title>\n",
       "<path fill=\"none\" stroke=\"black\" d=\"M581.91,-430.48C565.3,-416.54 539.17,-394.6 519.9,-378.41\"/>\n",
       "<polygon fill=\"black\" stroke=\"black\" points=\"522.39,-375.93 512.48,-372.18 517.89,-381.29 522.39,-375.93\"/>\n",
       "</g>\n",
       "<!-- 25 -->\n",
       "<g id=\"node26\" class=\"node\">\n",
       "<title>25</title>\n",
       "<ellipse fill=\"none\" stroke=\"black\" cx=\"497\" cy=\"-268\" rx=\"27\" ry=\"18\"/>\n",
       "<text text-anchor=\"middle\" x=\"497\" y=\"-262.95\" font-family=\"Times,serif\" font-size=\"14.00\">25</text>\n",
       "<text text-anchor=\"middle\" x=\"446\" y=\"-289.2\" font-family=\"Times,serif\" font-size=\"14.00\">3.71e&#45;02</text>\n",
       "</g>\n",
       "<!-- 14&#45;&gt;25 -->\n",
       "<g id=\"edge2\" class=\"edge\">\n",
       "<title>14&#45;&gt;25</title>\n",
       "<path fill=\"none\" stroke=\"black\" d=\"M435.89,-340.43C447.17,-327.24 463.76,-307.86 476.8,-292.61\"/>\n",
       "<polygon fill=\"black\" stroke=\"black\" points=\"479.18,-295.21 483.03,-285.33 473.87,-290.66 479.18,-295.21\"/>\n",
       "</g>\n",
       "<!-- 20 -->\n",
       "<g id=\"node21\" class=\"node\">\n",
       "<title>20</title>\n",
       "<ellipse fill=\"none\" stroke=\"black\" cx=\"569\" cy=\"-268\" rx=\"27\" ry=\"18\"/>\n",
       "<text text-anchor=\"middle\" x=\"569\" y=\"-262.95\" font-family=\"Times,serif\" font-size=\"14.00\">20</text>\n",
       "<text text-anchor=\"middle\" x=\"518\" y=\"-289.2\" font-family=\"Times,serif\" font-size=\"14.00\">6.13e&#45;07</text>\n",
       "</g>\n",
       "<!-- 15&#45;&gt;20 -->\n",
       "<g id=\"edge31\" class=\"edge\">\n",
       "<title>15&#45;&gt;20</title>\n",
       "<path fill=\"none\" stroke=\"black\" d=\"M575.42,-338.41C574.34,-326.76 572.89,-311.05 571.64,-297.52\"/>\n",
       "<polygon fill=\"black\" stroke=\"black\" points=\"575.15,-297.49 570.74,-287.86 568.18,-298.14 575.15,-297.49\"/>\n",
       "<text text-anchor=\"middle\" x=\"585\" y=\"-307.2\" font-family=\"Times,serif\" font-size=\"14.00\">0.13</text>\n",
       "</g>\n",
       "<!-- 15&#45;&gt;25 -->\n",
       "<g id=\"edge32\" class=\"edge\">\n",
       "<title>15&#45;&gt;25</title>\n",
       "<path fill=\"none\" stroke=\"black\" d=\"M563.14,-340.9C557.22,-334.64 550.25,-327.24 544,-320.5 535.48,-311.32 526.17,-301.14 518.09,-292.27\"/>\n",
       "<polygon fill=\"black\" stroke=\"black\" points=\"520.85,-290.1 511.53,-285.05 515.67,-294.81 520.85,-290.1\"/>\n",
       "<text text-anchor=\"middle\" x=\"556\" y=\"-307.2\" font-family=\"Times,serif\" font-size=\"14.00\">0.87</text>\n",
       "</g>\n",
       "<!-- 16&#45;&gt;19 -->\n",
       "<g id=\"edge33\" class=\"edge\">\n",
       "<title>16&#45;&gt;19</title>\n",
       "<path fill=\"none\" stroke=\"black\" d=\"M170.6,-338.41C170.34,-326.76 169.97,-311.05 169.66,-297.52\"/>\n",
       "<polygon fill=\"black\" stroke=\"black\" points=\"173.17,-297.78 169.44,-287.86 166.17,-297.94 173.17,-297.78\"/>\n",
       "<text text-anchor=\"middle\" x=\"182\" y=\"-307.2\" font-family=\"Times,serif\" font-size=\"14.00\">0.48</text>\n",
       "</g>\n",
       "<!-- 16&#45;&gt;28 -->\n",
       "<g id=\"edge34\" class=\"edge\">\n",
       "<title>16&#45;&gt;28</title>\n",
       "<path fill=\"none\" stroke=\"black\" d=\"M184.74,-340.81C189.6,-334.9 194.68,-327.76 198,-320.5 228.41,-253.95 228.61,-165.58 226.26,-120.73\"/>\n",
       "<polygon fill=\"black\" stroke=\"black\" points=\"229.76,-120.57 225.65,-110.81 222.77,-121 229.76,-120.57\"/>\n",
       "<text text-anchor=\"middle\" x=\"236\" y=\"-218.7\" font-family=\"Times,serif\" font-size=\"14.00\">0.52</text>\n",
       "</g>\n",
       "<!-- 18 -->\n",
       "<g id=\"node19\" class=\"node\">\n",
       "<title>18</title>\n",
       "<ellipse fill=\"none\" stroke=\"black\" cx=\"395\" cy=\"-179.5\" rx=\"27\" ry=\"18\"/>\n",
       "<text text-anchor=\"middle\" x=\"395\" y=\"-174.45\" font-family=\"Times,serif\" font-size=\"14.00\">18</text>\n",
       "<text text-anchor=\"middle\" x=\"344\" y=\"-200.7\" font-family=\"Times,serif\" font-size=\"14.00\">5.01e&#45;03</text>\n",
       "</g>\n",
       "<!-- 17&#45;&gt;18 -->\n",
       "<g id=\"edge36\" class=\"edge\">\n",
       "<title>17&#45;&gt;18</title>\n",
       "<path fill=\"none\" stroke=\"black\" d=\"M480.61,-341.1C467.86,-327.72 449.38,-306.79 437,-286 422.21,-261.16 410.58,-230.16 403.35,-208.21\"/>\n",
       "<polygon fill=\"black\" stroke=\"black\" points=\"406.71,-207.24 400.34,-198.78 400.04,-209.37 406.71,-207.24\"/>\n",
       "<text text-anchor=\"middle\" x=\"449\" y=\"-262.95\" font-family=\"Times,serif\" font-size=\"14.00\">0.74</text>\n",
       "</g>\n",
       "<!-- 17&#45;&gt;25 -->\n",
       "<g id=\"edge35\" class=\"edge\">\n",
       "<title>17&#45;&gt;25</title>\n",
       "<path fill=\"none\" stroke=\"black\" d=\"M491.65,-338.33C490.12,-328.32 488.87,-315.44 490,-304 490.22,-301.78 490.52,-299.49 490.86,-297.2\"/>\n",
       "<polygon fill=\"black\" stroke=\"black\" points=\"494.29,-297.94 492.63,-287.48 487.4,-296.69 494.29,-297.94\"/>\n",
       "<text text-anchor=\"middle\" x=\"502\" y=\"-307.2\" font-family=\"Times,serif\" font-size=\"14.00\">0.26</text>\n",
       "</g>\n",
       "<!-- 18&#45;&gt;22 -->\n",
       "<g id=\"edge38\" class=\"edge\">\n",
       "<title>18&#45;&gt;22</title>\n",
       "<path fill=\"none\" stroke=\"black\" d=\"M392.91,-161.3C392.54,-150.27 394.01,-136.32 402,-127 421.51,-104.25 455.05,-95.92 481.41,-93.04\"/>\n",
       "<polygon fill=\"black\" stroke=\"black\" points=\"481.39,-96.56 491.05,-92.22 480.79,-89.58 481.39,-96.56\"/>\n",
       "<text text-anchor=\"middle\" x=\"414\" y=\"-130.2\" font-family=\"Times,serif\" font-size=\"14.00\">0.48</text>\n",
       "</g>\n",
       "<!-- 18&#45;&gt;28 -->\n",
       "<g id=\"edge37\" class=\"edge\">\n",
       "<title>18&#45;&gt;28</title>\n",
       "<path fill=\"none\" stroke=\"black\" d=\"M371.27,-170.18C353.51,-163.66 328.8,-153.97 308,-143.5 288.64,-133.76 267.87,-121.04 251.82,-110.69\"/>\n",
       "<polygon fill=\"black\" stroke=\"black\" points=\"254.05,-107.96 243.76,-105.42 250.22,-113.82 254.05,-107.96\"/>\n",
       "<text text-anchor=\"middle\" x=\"320\" y=\"-130.2\" font-family=\"Times,serif\" font-size=\"14.00\">0.52</text>\n",
       "</g>\n",
       "<!-- 24 -->\n",
       "<g id=\"node25\" class=\"node\">\n",
       "<title>24</title>\n",
       "<ellipse fill=\"none\" stroke=\"black\" cx=\"169\" cy=\"-179.5\" rx=\"27\" ry=\"18\"/>\n",
       "<text text-anchor=\"middle\" x=\"169\" y=\"-174.45\" font-family=\"Times,serif\" font-size=\"14.00\">24</text>\n",
       "<text text-anchor=\"middle\" x=\"118\" y=\"-200.7\" font-family=\"Times,serif\" font-size=\"14.00\">4.40e&#45;02</text>\n",
       "</g>\n",
       "<!-- 19&#45;&gt;24 -->\n",
       "<g id=\"edge3\" class=\"edge\">\n",
       "<title>19&#45;&gt;24</title>\n",
       "<path fill=\"none\" stroke=\"black\" d=\"M169,-249.91C169,-238.26 169,-222.55 169,-209.02\"/>\n",
       "<polygon fill=\"black\" stroke=\"black\" points=\"172.5,-209.36 169,-199.36 165.5,-209.36 172.5,-209.36\"/>\n",
       "</g>\n",
       "<!-- 21 -->\n",
       "<g id=\"node22\" class=\"node\">\n",
       "<title>21</title>\n",
       "<ellipse fill=\"none\" stroke=\"black\" cx=\"505\" cy=\"-179.5\" rx=\"27\" ry=\"18\"/>\n",
       "<text text-anchor=\"middle\" x=\"505\" y=\"-174.45\" font-family=\"Times,serif\" font-size=\"14.00\">21</text>\n",
       "<text text-anchor=\"middle\" x=\"454\" y=\"-200.7\" font-family=\"Times,serif\" font-size=\"14.00\">1.87e&#45;07</text>\n",
       "</g>\n",
       "<!-- 20&#45;&gt;21 -->\n",
       "<g id=\"edge40\" class=\"edge\">\n",
       "<title>20&#45;&gt;21</title>\n",
       "<path fill=\"none\" stroke=\"black\" d=\"M557.56,-251.54C548.06,-238.7 534.37,-220.2 523.35,-205.3\"/>\n",
       "<polygon fill=\"black\" stroke=\"black\" points=\"526.22,-203.3 517.46,-197.34 520.59,-207.46 526.22,-203.3\"/>\n",
       "<text text-anchor=\"middle\" x=\"554\" y=\"-218.7\" font-family=\"Times,serif\" font-size=\"14.00\">0.30</text>\n",
       "</g>\n",
       "<!-- 23 -->\n",
       "<g id=\"node24\" class=\"node\">\n",
       "<title>23</title>\n",
       "<ellipse fill=\"none\" stroke=\"black\" cx=\"577\" cy=\"-179.5\" rx=\"27\" ry=\"18\"/>\n",
       "<text text-anchor=\"middle\" x=\"577\" y=\"-174.45\" font-family=\"Times,serif\" font-size=\"14.00\">23</text>\n",
       "<text text-anchor=\"middle\" x=\"526\" y=\"-200.7\" font-family=\"Times,serif\" font-size=\"14.00\">4.26e&#45;07</text>\n",
       "</g>\n",
       "<!-- 20&#45;&gt;23 -->\n",
       "<g id=\"edge39\" class=\"edge\">\n",
       "<title>20&#45;&gt;23</title>\n",
       "<path fill=\"none\" stroke=\"black\" d=\"M570.58,-249.91C571.66,-238.26 573.11,-222.55 574.36,-209.02\"/>\n",
       "<polygon fill=\"black\" stroke=\"black\" points=\"577.82,-209.64 575.26,-199.36 570.85,-208.99 577.82,-209.64\"/>\n",
       "<text text-anchor=\"middle\" x=\"585\" y=\"-218.7\" font-family=\"Times,serif\" font-size=\"14.00\">0.70</text>\n",
       "</g>\n",
       "<!-- 21&#45;&gt;22 -->\n",
       "<g id=\"edge41\" class=\"edge\">\n",
       "<title>21&#45;&gt;22</title>\n",
       "<path fill=\"none\" stroke=\"black\" d=\"M507.96,-161.41C509.98,-149.76 512.71,-134.05 515.05,-120.52\"/>\n",
       "<polygon fill=\"black\" stroke=\"black\" points=\"518.47,-121.29 516.73,-110.84 511.58,-120.1 518.47,-121.29\"/>\n",
       "<text text-anchor=\"middle\" x=\"525\" y=\"-130.2\" font-family=\"Times,serif\" font-size=\"14.00\">0.43</text>\n",
       "</g>\n",
       "<!-- 21&#45;&gt;28 -->\n",
       "<g id=\"edge42\" class=\"edge\">\n",
       "<title>21&#45;&gt;28</title>\n",
       "<path fill=\"none\" stroke=\"black\" d=\"M479.66,-172.78C445.55,-164.96 386.75,-151.06 366,-143.5 350.22,-137.75 347.58,-133.27 332,-127 308.29,-117.46 280.88,-108.6 259.61,-102.18\"/>\n",
       "<polygon fill=\"black\" stroke=\"black\" points=\"260.83,-98.89 250.25,-99.4 258.83,-105.6 260.83,-98.89\"/>\n",
       "<text text-anchor=\"middle\" x=\"378\" y=\"-130.2\" font-family=\"Times,serif\" font-size=\"14.00\">0.57</text>\n",
       "</g>\n",
       "<!-- 22&#45;&gt;27 -->\n",
       "<g id=\"edge4\" class=\"edge\">\n",
       "<title>22&#45;&gt;27</title>\n",
       "<path fill=\"none\" stroke=\"black\" d=\"M541.49,-79.83C566.89,-67.81 609.36,-47.7 638.48,-33.92\"/>\n",
       "<polygon fill=\"black\" stroke=\"black\" points=\"639.64,-37.24 647.18,-29.8 636.64,-30.92 639.64,-37.24\"/>\n",
       "</g>\n",
       "<!-- 23&#45;&gt;26 -->\n",
       "<g id=\"edge44\" class=\"edge\">\n",
       "<title>23&#45;&gt;26</title>\n",
       "<path fill=\"none\" stroke=\"black\" d=\"M555.9,-167.93C551.06,-165.68 545.9,-163.4 541,-161.5 515.85,-151.71 508.75,-151.59 483,-143.5 439.18,-129.73 388.76,-113.67 355.96,-103.19\"/>\n",
       "<polygon fill=\"black\" stroke=\"black\" points=\"357.17,-99.9 346.58,-100.19 355.04,-106.57 357.17,-99.9\"/>\n",
       "<text text-anchor=\"middle\" x=\"495\" y=\"-130.2\" font-family=\"Times,serif\" font-size=\"14.00\">0.82</text>\n",
       "</g>\n",
       "<!-- 23&#45;&gt;27 -->\n",
       "<g id=\"edge43\" class=\"edge\">\n",
       "<title>23&#45;&gt;27</title>\n",
       "<path fill=\"none\" stroke=\"black\" d=\"M586.43,-162.33C602.51,-134.74 635.39,-78.36 654.77,-45.13\"/>\n",
       "<polygon fill=\"black\" stroke=\"black\" points=\"657.77,-46.92 659.78,-36.52 651.72,-43.4 657.77,-46.92\"/>\n",
       "<text text-anchor=\"middle\" x=\"650\" y=\"-85.95\" font-family=\"Times,serif\" font-size=\"14.00\">0.18</text>\n",
       "</g>\n",
       "<!-- 24&#45;&gt;28 -->\n",
       "<g id=\"edge45\" class=\"edge\">\n",
       "<title>24&#45;&gt;28</title>\n",
       "<path fill=\"none\" stroke=\"black\" d=\"M172.36,-161.31C174.96,-150.81 179.27,-137.45 186,-127 189.26,-121.95 193.41,-117.14 197.78,-112.8\"/>\n",
       "<polygon fill=\"black\" stroke=\"black\" points=\"200.09,-115.42 205.12,-106.1 195.37,-110.25 200.09,-115.42\"/>\n",
       "<text text-anchor=\"middle\" x=\"198\" y=\"-130.2\" font-family=\"Times,serif\" font-size=\"14.00\">0.09</text>\n",
       "</g>\n",
       "<!-- 29 -->\n",
       "<g id=\"node30\" class=\"node\">\n",
       "<title>29</title>\n",
       "<ellipse fill=\"none\" stroke=\"black\" cx=\"75\" cy=\"-91\" rx=\"27\" ry=\"18\"/>\n",
       "<text text-anchor=\"middle\" x=\"75\" y=\"-85.95\" font-family=\"Times,serif\" font-size=\"14.00\">29</text>\n",
       "<text text-anchor=\"middle\" x=\"24\" y=\"-112.2\" font-family=\"Times,serif\" font-size=\"14.00\">4.02e&#45;02</text>\n",
       "</g>\n",
       "<!-- 24&#45;&gt;29 -->\n",
       "<g id=\"edge46\" class=\"edge\">\n",
       "<title>24&#45;&gt;29</title>\n",
       "<path fill=\"none\" stroke=\"black\" d=\"M153.9,-164.6C139.05,-150.94 116.16,-129.87 98.85,-113.94\"/>\n",
       "<polygon fill=\"black\" stroke=\"black\" points=\"101.22,-111.37 91.49,-107.18 96.48,-116.52 101.22,-111.37\"/>\n",
       "<text text-anchor=\"middle\" x=\"142\" y=\"-130.2\" font-family=\"Times,serif\" font-size=\"14.00\">0.91</text>\n",
       "</g>\n",
       "</g>\n",
       "</svg>\n"
      ],
      "text/plain": [
       "<graphviz.graphs.Digraph at 0x3182ef010>"
      ]
     },
     "metadata": {},
     "output_type": "display_data"
    },
    {
     "name": "stdout",
     "output_type": "stream",
     "text": [
      "Min prob: 1.8651992743955428e-07 at node 21\n"
     ]
    }
   ],
   "source": [
    "sbn = SimpleBN(30)\n",
    "display(sbn.draw())\n",
    "min_prob = min(sbn.reach_prob_dict.values())\n",
    "min_nidx = min(sbn.reach_prob_dict, key=sbn.reach_prob_dict.get)\n",
    "print(f\"Min prob: {min_prob} at node {min_nidx}\")\n"
   ]
  },
  {
   "cell_type": "code",
   "execution_count": 21,
   "metadata": {},
   "outputs": [
    {
     "name": "stdout",
     "output_type": "stream",
     "text": [
      "Coverage frequencies:\n"
     ]
    },
    {
     "data": {
      "text/plain": [
       "{0: 1000,\n",
       " 1: 651,\n",
       " 2: 603,\n",
       " 3: 349,\n",
       " 4: 48,\n",
       " 5: 300,\n",
       " 6: 45,\n",
       " 7: 3,\n",
       " 8: 124,\n",
       " 9: 5,\n",
       " 10: 1,\n",
       " 11: 49,\n",
       " 12: 0,\n",
       " 13: 8,\n",
       " 14: 37,\n",
       " 15: 0,\n",
       " 16: 3,\n",
       " 17: 8,\n",
       " 18: 7,\n",
       " 19: 46,\n",
       " 20: 0,\n",
       " 21: 0,\n",
       " 22: 490,\n",
       " 23: 0,\n",
       " 24: 46,\n",
       " 25: 38,\n",
       " 26: 121,\n",
       " 27: 492,\n",
       " 28: 309,\n",
       " 29: 40}"
      ]
     },
     "metadata": {},
     "output_type": "display_data"
    },
    {
     "name": "stdout",
     "output_type": "stream",
     "text": [
      "Uncovered nodes: [12, 15, 20, 21, 23]\n",
      "Pr(12) = 4.8272237587007876e-05\n",
      "Pr(15) = 4.660665704523967e-06\n",
      "Pr(20) = 6.127973733909666e-07\n",
      "Pr(21) = 1.8651992743955428e-07\n",
      "Pr(23) = 4.262774459514123e-07\n"
     ]
    }
   ],
   "source": [
    "num_exec = 1000\n",
    "edge_cov = sbn.gen_obss(num_exec)\n",
    "node_cov = sbn.edgecov2nodecov(edge_cov)\n",
    "coverage_freq = np.sum(node_cov, 0)\n",
    "coverage_freq_dict = {i: coverage_freq[i] for i in range(len(coverage_freq))}\n",
    "print(\"Coverage frequencies:\")\n",
    "display(coverage_freq_dict)\n",
    "covered_nodes = coverage_freq > 0\n",
    "covered_node_idxs = set(np.nonzero(covered_nodes)[0])\n",
    "uncovered_node_idxs = set(np.nonzero(1 - covered_nodes)[0])\n",
    "print(\"Uncovered nodes:\", sorted(uncovered_node_idxs))\n",
    "for node_idx in sorted(uncovered_node_idxs):\n",
    "    print(f\"Pr({node_idx}) = {sbn.reach_prob_dict[node_idx]}\")"
   ]
  },
  {
   "cell_type": "markdown",
   "metadata": {},
   "source": [
    "### Blackbox estimation"
   ]
  },
  {
   "cell_type": "code",
   "execution_count": 22,
   "metadata": {},
   "outputs": [
    {
     "name": "stdout",
     "output_type": "stream",
     "text": [
      "Estimated Laplace: 0.00199203187250996\n",
      "Estimated Good-Turing: 0.004\n"
     ]
    }
   ],
   "source": [
    "# Laplace estimator\n",
    "alpha = 2\n",
    "esti_laplace = 2 / (num_exec + 4)\n",
    "\n",
    "# Good-Turing estimator\n",
    "edge_cov_str = [\"\".join(map(str, row)) for row in edge_cov]\n",
    "edge_cov_freq = {edge: edge_cov_str.count(edge) for edge in set(edge_cov_str)}\n",
    "singletons = {k: v for k, v in edge_cov_freq.items() if v == 1}\n",
    "est_goodturing = len(singletons) / num_exec\n",
    "\n",
    "print(f\"Estimated Laplace: {esti_laplace}\")\n",
    "print(f\"Estimated Good-Turing: {est_goodturing}\")"
   ]
  },
  {
   "cell_type": "markdown",
   "metadata": {},
   "source": [
    "### Structure-aware estimation\n",
    "\n",
    "For each uncovered statement,\n",
    "1. find the set of closest reached statements\n",
    "2. for each of them\n",
    "   1. find the set of paths from the closest reached statement to the uncovered statement only through the uncovered statements\n",
    "   2. compute the probability through the paths\n",
    "3. sum the probabilities"
   ]
  },
  {
   "cell_type": "code",
   "execution_count": 23,
   "metadata": {},
   "outputs": [
    {
     "name": "stdout",
     "output_type": "stream",
     "text": [
      "Node 12 is uncovered.\n",
      "Ancestor nodes: {0, 1, 4, 7, 10, 12}\n",
      "Reached ancestor nodes: {0, 1, 4, 7, 10}\n"
     ]
    }
   ],
   "source": [
    "uncovered_node = sorted(uncovered_node_idxs)[0]\n",
    "print(f\"Node {uncovered_node} is uncovered.\")\n",
    "\n",
    "ancestor_nodes = sbn.get_ancestors(uncovered_node)\n",
    "print(f\"Ancestor nodes: {ancestor_nodes}\")\n",
    "\n",
    "############# IMPLEMENT HERE #############\n",
    "reached_ancestor_nodes = ancestor_nodes & covered_node_idxs\n",
    "print(f\"Reached ancestor nodes: {reached_ancestor_nodes}\")\n",
    "##########################################"
   ]
  },
  {
   "cell_type": "code",
   "execution_count": 24,
   "metadata": {},
   "outputs": [
    {
     "name": "stdout",
     "output_type": "stream",
     "text": [
      "Closest reached ancestor nodes: {10}\n"
     ]
    }
   ],
   "source": [
    "def find_closest_reached_ancestor(\n",
    "    target_node: int, reached_ancestor_nodes: set, sbn: SimpleBN\n",
    ") -> int:\n",
    "    if target_node in reached_ancestor_nodes:\n",
    "        return {target_node}\n",
    "    \n",
    "    ############# IMPLEMENT HERE #############\n",
    "    closest = set()\n",
    "    visited = set()\n",
    "    queue = [target_node]\n",
    "    while len(queue):\n",
    "        node = queue.pop(0)\n",
    "        if node in visited:\n",
    "            continue\n",
    "        visited.add(node)\n",
    "        if node in reached_ancestor_nodes:\n",
    "            closest.add(node)\n",
    "        else:\n",
    "            queue.extend(sbn.get_parents(node))\n",
    "    ##########################################\n",
    "    \n",
    "    return closest\n",
    "\n",
    "\n",
    "closest_reached_ancestors = find_closest_reached_ancestor(\n",
    "    uncovered_node, reached_ancestor_nodes, sbn\n",
    ")\n",
    "\n",
    "print(f\"Closest reached ancestor nodes: {closest_reached_ancestors}\")"
   ]
  },
  {
   "cell_type": "code",
   "execution_count": 25,
   "metadata": {},
   "outputs": [
    {
     "name": "stdout",
     "output_type": "stream",
     "text": [
      "Paths from 10 to 12: [[10, 12]]\n"
     ]
    }
   ],
   "source": [
    "def find_paths(\n",
    "    source_node: int, target_node: int, avoid_nodes: List[int], sbn: SimpleBN\n",
    "):\n",
    "    ############# IMPLEMENT HERE #############\n",
    "    paths = []\n",
    "    queue = [[source_node]]\n",
    "    while len(queue):\n",
    "        path = queue.pop(0)\n",
    "        node = path[-1]\n",
    "        if node == target_node:\n",
    "            paths.append(path)\n",
    "        else:\n",
    "            for child in sbn.get_children(node):\n",
    "                if child in avoid_nodes:\n",
    "                    continue\n",
    "                queue.append(path + [child])\n",
    "    ##########################################\n",
    "    \n",
    "    return paths\n",
    "\n",
    "for cra in sorted(closest_reached_ancestors):\n",
    "    paths = find_paths(cra, uncovered_node, covered_node_idxs, sbn)\n",
    "    print(f\"Paths from {cra} to {uncovered_node}: {paths}\")"
   ]
  },
  {
   "cell_type": "code",
   "execution_count": 26,
   "metadata": {},
   "outputs": [
    {
     "name": "stdout",
     "output_type": "stream",
     "text": [
      "Probability of path [10, 12]: 0.0004\n",
      "Total probability of reaching node 12: 0.0004\n"
     ]
    }
   ],
   "source": [
    "def compute_prob(path: list, sbn: SimpleBN, n: int, start_freq: int) -> float:\n",
    "    ############# IMPLEMENT HERE #############\n",
    "    prob = start_freq / n  # empirical reaching probability of the start node\n",
    "    prob *= 2 / (start_freq + 4)  # laplace smoothing\n",
    "    # print(f\"Pr[{path[0]} -> {path[1]}] = {start_freq / n} * {2 / (start_freq + 4)} = {prob}\")\n",
    "    if len(path) > 2:\n",
    "        for node in path[1:-1]:\n",
    "            # print(f\"Num children of {node}: {len(sbn.get_children(node))}\")\n",
    "            # print(f\"Pr[{node} -> {path[path.index(node) + 1]}] = {1 / len(sbn.get_children(node))}\", end=\", \")\n",
    "            prob *= 1 / len(\n",
    "                sbn.get_children(node)\n",
    "            )  # uniform probability for each child\n",
    "            # print(f\"Pr = {prob}\")\n",
    "    ##########################################\n",
    "\n",
    "    return prob\n",
    "\n",
    "\n",
    "total_prob = 0\n",
    "for cra in sorted(closest_reached_ancestors):\n",
    "    paths = find_paths(cra, uncovered_node, covered_node_idxs, sbn)\n",
    "    for path in paths:\n",
    "        prob = compute_prob(path, sbn, num_exec, coverage_freq_dict[cra])\n",
    "        print(f\"Probability of path {path}: {prob}\")\n",
    "        total_prob += prob\n",
    "print(f\"Total probability of reaching node {uncovered_node}: {total_prob}\")"
   ]
  },
  {
   "cell_type": "code",
   "execution_count": 27,
   "metadata": {},
   "outputs": [
    {
     "name": "stdout",
     "output_type": "stream",
     "text": [
      "Node None is uncovered.\n"
     ]
    },
    {
     "ename": "KeyError",
     "evalue": "None",
     "output_type": "error",
     "traceback": [
      "\u001b[0;31m---------------------------------------------------------------------------\u001b[0m",
      "\u001b[0;31mKeyError\u001b[0m                                  Traceback (most recent call last)",
      "Input \u001b[0;32mIn [27]\u001b[0m, in \u001b[0;36m<cell line: 6>\u001b[0;34m()\u001b[0m\n\u001b[1;32m      3\u001b[0m uncovered_node \u001b[38;5;241m=\u001b[39m \u001b[38;5;28;01mNone\u001b[39;00m\n\u001b[1;32m      4\u001b[0m \u001b[38;5;28mprint\u001b[39m(\u001b[38;5;124mf\u001b[39m\u001b[38;5;124m\"\u001b[39m\u001b[38;5;124mNode \u001b[39m\u001b[38;5;132;01m{\u001b[39;00muncovered_node\u001b[38;5;132;01m}\u001b[39;00m\u001b[38;5;124m is uncovered.\u001b[39m\u001b[38;5;124m\"\u001b[39m)\n\u001b[0;32m----> 6\u001b[0m ancestor_nodes \u001b[38;5;241m=\u001b[39m \u001b[43msbn\u001b[49m\u001b[38;5;241;43m.\u001b[39;49m\u001b[43mget_ancestors\u001b[49m\u001b[43m(\u001b[49m\u001b[43muncovered_node\u001b[49m\u001b[43m)\u001b[49m\n\u001b[1;32m      7\u001b[0m \u001b[38;5;28mprint\u001b[39m(\u001b[38;5;124mf\u001b[39m\u001b[38;5;124m\"\u001b[39m\u001b[38;5;124mAncestor nodes: \u001b[39m\u001b[38;5;132;01m{\u001b[39;00mancestor_nodes\u001b[38;5;132;01m}\u001b[39;00m\u001b[38;5;124m\"\u001b[39m)\n\u001b[1;32m      9\u001b[0m reached_ancestor_nodes \u001b[38;5;241m=\u001b[39m ancestor_nodes \u001b[38;5;241m&\u001b[39m covered_node_idxs\n",
      "File \u001b[0;32m~/Documents/research/FuzzingSummerSchool/fuzzingbook/notebooks/bn.py:197\u001b[0m, in \u001b[0;36mSimpleBN.get_ancestors\u001b[0;34m(self, node)\u001b[0m\n\u001b[1;32m    195\u001b[0m     visited\u001b[38;5;241m.\u001b[39madd(curr_node)\n\u001b[1;32m    196\u001b[0m     ancestors\u001b[38;5;241m.\u001b[39madd(curr_node)\n\u001b[0;32m--> 197\u001b[0m     queue\u001b[38;5;241m.\u001b[39mupdate(\u001b[38;5;28;43mself\u001b[39;49m\u001b[38;5;241;43m.\u001b[39;49m\u001b[43mget_parents\u001b[49m\u001b[43m(\u001b[49m\u001b[43mcurr_node\u001b[49m\u001b[43m)\u001b[49m)\n\u001b[1;32m    198\u001b[0m \u001b[38;5;28;01mreturn\u001b[39;00m ancestors\n",
      "File \u001b[0;32m~/Documents/research/FuzzingSummerSchool/fuzzingbook/notebooks/bn.py:182\u001b[0m, in \u001b[0;36mSimpleBN.get_parents\u001b[0;34m(self, node)\u001b[0m\n\u001b[1;32m    181\u001b[0m \u001b[38;5;28;01mdef\u001b[39;00m \u001b[38;5;21mget_parents\u001b[39m(\u001b[38;5;28mself\u001b[39m, node: \u001b[38;5;28mint\u001b[39m) \u001b[38;5;241m-\u001b[39m\u001b[38;5;241m>\u001b[39m Set[\u001b[38;5;28mint\u001b[39m]:\n\u001b[0;32m--> 182\u001b[0m     \u001b[38;5;28;01mreturn\u001b[39;00m \u001b[38;5;28;43mself\u001b[39;49m\u001b[38;5;241;43m.\u001b[39;49m\u001b[43mparent_map\u001b[49m\u001b[43m[\u001b[49m\u001b[43mnode\u001b[49m\u001b[43m]\u001b[49m\n",
      "\u001b[0;31mKeyError\u001b[0m: None"
     ]
    }
   ],
   "source": [
    "# Another one\n",
    "\n",
    "uncovered_node = None\n",
    "print(f\"Node {uncovered_node} is uncovered.\")\n",
    "\n",
    "ancestor_nodes = sbn.get_ancestors(uncovered_node)\n",
    "print(f\"Ancestor nodes: {ancestor_nodes}\")\n",
    "\n",
    "reached_ancestor_nodes = ancestor_nodes & covered_node_idxs\n",
    "print(f\"Reached ancestor nodes: {reached_ancestor_nodes}\")\n",
    "\n",
    "closest_reached_ancestors = find_closest_reached_ancestor(\n",
    "    uncovered_node, reached_ancestor_nodes, sbn\n",
    ")\n",
    "print(f\"Closest reached ancestor nodes: {closest_reached_ancestors}\")\n",
    "\n",
    "total_prob = 0\n",
    "for cra in sorted(closest_reached_ancestors):\n",
    "    paths = find_paths(cra, uncovered_node, covered_node_idxs, sbn)\n",
    "    print(f\"Paths from {cra} to {uncovered_node}: {paths}\")\n",
    "    for path in paths:\n",
    "        prob = compute_prob(path, sbn, num_exec, coverage_freq_dict[cra])\n",
    "        print(f\"Probability of path {path}: {prob}\")\n",
    "        total_prob += prob\n",
    "print(f\"Total probability of reaching node {uncovered_node}: {total_prob}\")"
   ]
  },
  {
   "cell_type": "code",
   "execution_count": 28,
   "metadata": {},
   "outputs": [],
   "source": [
    "def structure_aware_esti(\n",
    "    uncovered_node: int, sbn: SimpleBN, coverage_freq_dict\n",
    "):\n",
    "    ancestor_nodes = sbn.get_ancestors(uncovered_node)\n",
    "    covered_node_idxs = {k for k, v in coverage_freq_dict.items() if v > 0}\n",
    "    reached_ancestor_nodes = ancestor_nodes & covered_node_idxs\n",
    "    closest_reached_ancestors = find_closest_reached_ancestor(\n",
    "        uncovered_node, reached_ancestor_nodes, sbn\n",
    "    )\n",
    "    num_exec = sum([v for k, v in coverage_freq_dict.items()])\n",
    "    total_prob = 0\n",
    "    for cra in sorted(closest_reached_ancestors):\n",
    "        remaining_cras = closest_reached_ancestors - {cra}\n",
    "        paths = find_paths(cra, uncovered_node, remaining_cras, sbn)\n",
    "        for path in paths:\n",
    "            prob = compute_prob(path, sbn, num_exec, coverage_freq[cra])\n",
    "            total_prob += prob\n",
    "    return total_prob"
   ]
  },
  {
   "cell_type": "code",
   "execution_count": 29,
   "metadata": {},
   "outputs": [
    {
     "data": {
      "text/html": [
       "<div>\n",
       "<style scoped>\n",
       "    .dataframe tbody tr th:only-of-type {\n",
       "        vertical-align: middle;\n",
       "    }\n",
       "\n",
       "    .dataframe tbody tr th {\n",
       "        vertical-align: top;\n",
       "    }\n",
       "\n",
       "    .dataframe thead th {\n",
       "        text-align: right;\n",
       "    }\n",
       "</style>\n",
       "<table border=\"1\" class=\"dataframe\">\n",
       "  <thead>\n",
       "    <tr style=\"text-align: right;\">\n",
       "      <th></th>\n",
       "      <th>node</th>\n",
       "      <th>true</th>\n",
       "      <th>lap</th>\n",
       "      <th>good</th>\n",
       "      <th>struct</th>\n",
       "    </tr>\n",
       "  </thead>\n",
       "  <tbody>\n",
       "    <tr>\n",
       "      <th>0</th>\n",
       "      <td>12</td>\n",
       "      <td>4.827224e-05</td>\n",
       "      <td>0.001992</td>\n",
       "      <td>0.004</td>\n",
       "      <td>0.000083</td>\n",
       "    </tr>\n",
       "    <tr>\n",
       "      <th>1</th>\n",
       "      <td>15</td>\n",
       "      <td>4.660666e-06</td>\n",
       "      <td>0.001992</td>\n",
       "      <td>0.004</td>\n",
       "      <td>0.000041</td>\n",
       "    </tr>\n",
       "    <tr>\n",
       "      <th>2</th>\n",
       "      <td>20</td>\n",
       "      <td>6.127974e-07</td>\n",
       "      <td>0.001992</td>\n",
       "      <td>0.004</td>\n",
       "      <td>0.000021</td>\n",
       "    </tr>\n",
       "    <tr>\n",
       "      <th>3</th>\n",
       "      <td>21</td>\n",
       "      <td>1.865199e-07</td>\n",
       "      <td>0.001992</td>\n",
       "      <td>0.004</td>\n",
       "      <td>0.000010</td>\n",
       "    </tr>\n",
       "    <tr>\n",
       "      <th>4</th>\n",
       "      <td>23</td>\n",
       "      <td>4.262774e-07</td>\n",
       "      <td>0.001992</td>\n",
       "      <td>0.004</td>\n",
       "      <td>0.000010</td>\n",
       "    </tr>\n",
       "  </tbody>\n",
       "</table>\n",
       "</div>"
      ],
      "text/plain": [
       "   node          true       lap   good    struct\n",
       "0    12  4.827224e-05  0.001992  0.004  0.000083\n",
       "1    15  4.660666e-06  0.001992  0.004  0.000041\n",
       "2    20  6.127974e-07  0.001992  0.004  0.000021\n",
       "3    21  1.865199e-07  0.001992  0.004  0.000010\n",
       "4    23  4.262774e-07  0.001992  0.004  0.000010"
      ]
     },
     "metadata": {},
     "output_type": "display_data"
    },
    {
     "data": {
      "image/png": "[encoded data removed]",
      "text/plain": [
       "<Figure size 1000x500 with 1 Axes>"
      ]
     },
     "metadata": {},
     "output_type": "display_data"
    },
    {
     "data": {
      "image/png": "[encoded data removed]",
      "text/plain": [
       "<Figure size 1000x500 with 1 Axes>"
      ]
     },
     "metadata": {},
     "output_type": "display_data"
    }
   ],
   "source": [
    "import pandas as pd\n",
    "\n",
    "df = pd.DataFrame(\n",
    "    {\n",
    "        \"node\": sorted(uncovered_node_idxs),\n",
    "        \"true\": [sbn.reach_prob_dict[n] for n in sorted(uncovered_node_idxs)],\n",
    "        \"lap\": [esti_laplace] * len(uncovered_node_idxs),\n",
    "        \"good\": [est_goodturing] * len(uncovered_node_idxs),\n",
    "        \"struct\": [\n",
    "            structure_aware_esti(n, sbn, coverage_freq_dict)\n",
    "            for n in sorted(uncovered_node_idxs)\n",
    "        ],\n",
    "    }\n",
    ")\n",
    "display(df)\n",
    "\n",
    "# draw barplot\n",
    "df_melt = df.melt(id_vars=\"node\", var_name=\"method\", value_name=\"prob\")\n",
    "fig, ax = plt.subplots(figsize=(10, 5))\n",
    "sns.barplot(x=\"node\", y=\"prob\", hue=\"method\", data=df_melt, ax=ax)\n",
    "plt.show()\n",
    "\n",
    "fig, ax = plt.subplots(figsize=(10, 5))\n",
    "sns.barplot(x=\"node\", y=\"prob\", hue=\"method\", data=df_melt, ax=ax)\n",
    "ax.set_yscale(\"log\")\n",
    "plt.show()"
   ]
  },
  {
   "cell_type": "markdown",
   "metadata": {},
   "source": [
    "***💡 Go back to the slides***"
   ]
  },
  {
   "cell_type": "markdown",
   "metadata": {},
   "source": []
  }
 ],
 "metadata": {
  "interpreter": {
   "hash": "e14d36d868a7b57a60d32b8e35cbda475d023cdffb81cafc20acf470005baaf6"
  },
  "kernelspec": {
   "display_name": "Python 3.8.9 64-bit ('fuzzingbook-AP08n1K5': pipenv)",
   "name": "python3"
  },
  "language_info": {
   "codemirror_mode": {
    "name": "ipython",
    "version": 3
   },
   "file_extension": ".py",
   "mimetype": "text/x-python",
   "name": "python",
   "nbconvert_exporter": "python",
   "pygments_lexer": "ipython3",
   "version": "3.10.6"
  },
  "orig_nbformat": 4
 },
 "nbformat": 4,
 "nbformat_minor": 2
}
